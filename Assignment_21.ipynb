{
  "nbformat": 4,
  "nbformat_minor": 0,
  "metadata": {
    "colab": {
      "provenance": [],
      "authorship_tag": "ABX9TyO4NLzL6ovKNZkmM1WW0VVL",
      "include_colab_link": true
    },
    "kernelspec": {
      "name": "python3",
      "display_name": "Python 3"
    },
    "language_info": {
      "name": "python"
    }
  },
  "cells": [
    {
      "cell_type": "markdown",
      "metadata": {
        "id": "view-in-github",
        "colab_type": "text"
      },
      "source": [
        "<a href=\"https://colab.research.google.com/github/shubhangi9845/python/blob/main/Assignment_21.ipynb\" target=\"_parent\"><img src=\"https://colab.research.google.com/assets/colab-badge.svg\" alt=\"Open In Colab\"/></a>"
      ]
    },
    {
      "cell_type": "markdown",
      "source": [
        "#Assignment 21"
      ],
      "metadata": {
        "id": "AdpFnhAuaLZd"
      }
    },
    {
      "cell_type": "markdown",
      "source": [
        "####1. Add the current date to the text file today.txt as a string."
      ],
      "metadata": {
        "id": "zSofFYv6aQFL"
      }
    },
    {
      "cell_type": "code",
      "source": [
        "import datetime\n",
        "# Code to Add current date to the today.txt file\n",
        "file = open('today.txt','w')\n",
        "file.write(datetime.datetime.now().strftime(\"%d-%m-%Y\"))\n",
        "file.close()\n",
        "# Code to Read current date from today.txt file\n",
        "file = open('today.txt','r')\n",
        "print(file.read())\n",
        "file.close()"
      ],
      "metadata": {
        "colab": {
          "base_uri": "https://localhost:8080/"
        },
        "id": "EWf7bnMmaXYc",
        "outputId": "73cbd7f4-0688-43bc-ba3e-dd292763eaa7"
      },
      "execution_count": 1,
      "outputs": [
        {
          "output_type": "stream",
          "name": "stdout",
          "text": [
            "01-09-2024\n"
          ]
        }
      ]
    },
    {
      "cell_type": "markdown",
      "source": [
        "####2. Read the text file today.txt into the string today_string"
      ],
      "metadata": {
        "id": "mPMMSKc0aiJj"
      }
    },
    {
      "cell_type": "code",
      "source": [
        "file = open('today.txt','r')\n",
        "today_string = file.read()\n",
        "print(today_string)"
      ],
      "metadata": {
        "colab": {
          "base_uri": "https://localhost:8080/"
        },
        "id": "iX186R9Cauhl",
        "outputId": "9e1ea2a3-948d-473a-c501-b16bdffc221f"
      },
      "execution_count": 2,
      "outputs": [
        {
          "output_type": "stream",
          "name": "stdout",
          "text": [
            "01-09-2024\n"
          ]
        }
      ]
    },
    {
      "cell_type": "markdown",
      "source": [
        "####3. Parse the date from today_string."
      ],
      "metadata": {
        "id": "z9eeBO-MazsK"
      }
    },
    {
      "cell_type": "code",
      "source": [
        "from datetime import datetime\n",
        "parsed_data = datetime.strptime(today_string, '%d-%m-%Y')\n",
        "print(parsed_data)"
      ],
      "metadata": {
        "colab": {
          "base_uri": "https://localhost:8080/"
        },
        "id": "UMjs1DqEa106",
        "outputId": "577de2cb-24b2-4b79-d518-d5d74435f217"
      },
      "execution_count": 3,
      "outputs": [
        {
          "output_type": "stream",
          "name": "stdout",
          "text": [
            "2024-09-01 00:00:00\n"
          ]
        }
      ]
    },
    {
      "cell_type": "markdown",
      "source": [
        "####4. List the files in your current directory"
      ],
      "metadata": {
        "id": "Z_3ZzWRYa9hm"
      }
    },
    {
      "cell_type": "code",
      "source": [
        "import os\n",
        "for folders, subfolders, files in os.walk(os.getcwd()):\n",
        "    for file in files:\n",
        "        print(file)"
      ],
      "metadata": {
        "colab": {
          "base_uri": "https://localhost:8080/"
        },
        "id": "VcKJtp8XbAH0",
        "outputId": "6ecf9f02-e910-4eac-febe-9394b8f214bf"
      },
      "execution_count": 4,
      "outputs": [
        {
          "output_type": "stream",
          "name": "stdout",
          "text": [
            "today.txt\n",
            "gce\n",
            ".last_survey_prompt.yaml\n",
            "config_sentinel\n",
            ".last_opt_in_prompt.yaml\n",
            "hidden_gcloud_config_universe_descriptor_data_cache_configs.db\n",
            "default_configs.db\n",
            "active_config\n",
            ".last_update_check.json\n",
            "13.22.11.040533.log\n",
            "13.21.40.098680.log\n",
            "13.22.22.802086.log\n",
            "13.22.23.461120.log\n",
            "13.22.11.905487.log\n",
            "13.22.00.631744.log\n",
            "config_default\n",
            "README.md\n",
            "anscombe.json\n",
            "california_housing_test.csv\n",
            "mnist_train_small.csv\n",
            "mnist_test.csv\n",
            "california_housing_train.csv\n"
          ]
        }
      ]
    },
    {
      "cell_type": "markdown",
      "source": [
        "####5. Create a list of all of the files in your parent directory (minimum five files should be available)."
      ],
      "metadata": {
        "id": "E26y674-bN4A"
      }
    },
    {
      "cell_type": "code",
      "source": [
        "import os\n",
        "os.listdir()"
      ],
      "metadata": {
        "colab": {
          "base_uri": "https://localhost:8080/"
        },
        "id": "gtqS0mS1bQxj",
        "outputId": "884e1b1a-e7d0-4316-cf4f-a4317cc37f38"
      },
      "execution_count": 5,
      "outputs": [
        {
          "output_type": "execute_result",
          "data": {
            "text/plain": [
              "['.config', 'today.txt', 'sample_data']"
            ]
          },
          "metadata": {},
          "execution_count": 5
        }
      ]
    },
    {
      "cell_type": "markdown",
      "source": [
        "####6. Use multiprocessing to create three separate processes. Make each one wait a random number of seconds between one and five, print the current time, and then exit."
      ],
      "metadata": {
        "id": "YQNo9jesbdno"
      }
    },
    {
      "cell_type": "code",
      "source": [
        "import multiprocessing\n",
        "import time\n",
        "import random\n",
        "import datetime\n",
        "\n",
        "def procOne():\n",
        "    print(f'Proc_one_Starttime -> {datetime.datetime.now()}')\n",
        "    time.sleep(random.randint(1,5))\n",
        "    print(f'Proc_one_Endtime -> {datetime.datetime.now()}')\n",
        "\n",
        "def procTwo():\n",
        "    print(f'Proc_two_Starttime -> {datetime.datetime.now()}')\n",
        "    time.sleep(random.randint(1,5))\n",
        "    print(f'Proc_two_Endtime -> {datetime.datetime.now()}')\n",
        "\n",
        "def procThree():\n",
        "    print(f'Proc_two_Starttime -> {datetime.datetime.now()}')\n",
        "    time.sleep(random.randint(1,5))\n",
        "    print(f'Proc_two_Endtime -> {datetime.datetime.now()}')\n",
        "\n",
        "if __name__ == \"__main__\":\n",
        "    p1 = multiprocessing.Process(target=procOne)\n",
        "    p2 = multiprocessing.Process(target=procTwo)\n",
        "    p3 = multiprocessing.Process(target=procThree)\n",
        "\n",
        "    p1.start()\n",
        "    p2.start()\n",
        "    p3.start()\n",
        "\n",
        "    p1.join()\n",
        "    p2.join()\n",
        "    p3.join()"
      ],
      "metadata": {
        "colab": {
          "base_uri": "https://localhost:8080/"
        },
        "id": "d4HQpbVIbgqZ",
        "outputId": "ab2d5453-3917-4c43-90fa-6b5b8cc25412"
      },
      "execution_count": 6,
      "outputs": [
        {
          "output_type": "stream",
          "name": "stdout",
          "text": [
            "Proc_one_Starttime -> 2024-09-01 11:53:04.762722\n",
            "Proc_two_Starttime -> 2024-09-01 11:53:04.778094\n",
            "Proc_two_Starttime -> 2024-09-01 11:53:04.786046\n",
            "Proc_one_Endtime -> 2024-09-01 11:53:05.783594\n",
            "Proc_two_Endtime -> 2024-09-01 11:53:06.798959\n",
            "Proc_two_Endtime -> 2024-09-01 11:53:07.793767\n"
          ]
        }
      ]
    },
    {
      "cell_type": "markdown",
      "source": [
        "####7. Create a date object of your day of birth."
      ],
      "metadata": {
        "id": "Jv9N3Om6cICk"
      }
    },
    {
      "cell_type": "code",
      "source": [
        "from datetime import datetime\n",
        "my_dob = datetime.strptime('20/06/1998','%d/%m/%Y')\n",
        "print(my_dob, type(my_dob))"
      ],
      "metadata": {
        "colab": {
          "base_uri": "https://localhost:8080/"
        },
        "id": "LsxMkf5pcODY",
        "outputId": "f26067b3-e42e-4de5-e3ca-5087eb452512"
      },
      "execution_count": 9,
      "outputs": [
        {
          "output_type": "stream",
          "name": "stdout",
          "text": [
            "1998-06-20 00:00:00 <class 'datetime.datetime'>\n"
          ]
        }
      ]
    },
    {
      "cell_type": "markdown",
      "source": [
        "####8. What day of the week was your day of birth?"
      ],
      "metadata": {
        "id": "EVpFTSaZcShv"
      }
    },
    {
      "cell_type": "code",
      "source": [
        "from datetime import datetime\n",
        "my_dob = datetime(1998,6,20)\n",
        "my_dob.strftime(\"%A\")"
      ],
      "metadata": {
        "colab": {
          "base_uri": "https://localhost:8080/",
          "height": 35
        },
        "id": "E2GOMXL1cVt9",
        "outputId": "087193cc-2322-4589-b723-09bf97ab7859"
      },
      "execution_count": 10,
      "outputs": [
        {
          "output_type": "execute_result",
          "data": {
            "text/plain": [
              "'Saturday'"
            ],
            "application/vnd.google.colaboratory.intrinsic+json": {
              "type": "string"
            }
          },
          "metadata": {},
          "execution_count": 10
        }
      ]
    },
    {
      "cell_type": "markdown",
      "source": [
        "####9. When will you be (or when were you) 10,000 days old?"
      ],
      "metadata": {
        "id": "xiM-d7kgcxQY"
      }
    },
    {
      "cell_type": "code",
      "source": [
        "from datetime import datetime, timedelta\n",
        "my_dob = datetime.strptime(\"20/06/1998\",'%d/%m/%Y')\n",
        "future_date = my_dob-timedelta(10000)\n",
        "future_date"
      ],
      "metadata": {
        "colab": {
          "base_uri": "https://localhost:8080/"
        },
        "id": "k7KsVyqlc4Q2",
        "outputId": "371fdc3c-d7d1-440f-d546-dce94b54872c"
      },
      "execution_count": 11,
      "outputs": [
        {
          "output_type": "execute_result",
          "data": {
            "text/plain": [
              "datetime.datetime(1971, 2, 2, 0, 0)"
            ]
          },
          "metadata": {},
          "execution_count": 11
        }
      ]
    }
  ]
}