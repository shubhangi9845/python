{
  "nbformat": 4,
  "nbformat_minor": 0,
  "metadata": {
    "colab": {
      "provenance": [],
      "authorship_tag": "ABX9TyOJcsbseGxNuq8pbAH5Icx3",
      "include_colab_link": true
    },
    "kernelspec": {
      "name": "python3",
      "display_name": "Python 3"
    },
    "language_info": {
      "name": "python"
    }
  },
  "cells": [
    {
      "cell_type": "markdown",
      "metadata": {
        "id": "view-in-github",
        "colab_type": "text"
      },
      "source": [
        "<a href=\"https://colab.research.google.com/github/shubhangi9845/python/blob/main/Assignment_23.ipynb\" target=\"_parent\"><img src=\"https://colab.research.google.com/assets/colab-badge.svg\" alt=\"Open In Colab\"/></a>"
      ]
    },
    {
      "cell_type": "markdown",
      "source": [
        "#Assignment_23"
      ],
      "metadata": {
        "id": "V9hTzgAgqaHe"
      }
    },
    {
      "cell_type": "markdown",
      "source": [
        "####1. What is the result of the code, and why?\n",
        "\n",
        "```\n",
        ">>> def func(a, b=6, c=8):\n",
        "print(a, b, c)\n",
        ">>> func(1, 2)\n",
        "```\n",
        "\n"
      ],
      "metadata": {
        "id": "RCiw9BMBqcMT"
      }
    },
    {
      "cell_type": "markdown",
      "source": [
        "Ans:\n",
        "The result of the above code is 1 2 8. its because the function uses the default value of c ie 8 which is provided at the time of declaration"
      ],
      "metadata": {
        "id": "-YBA5jFVqvHk"
      }
    },
    {
      "cell_type": "code",
      "source": [
        "def func(a,b=6,c=8):\n",
        "    print(a,b,c)\n",
        "func(1,2)"
      ],
      "metadata": {
        "colab": {
          "base_uri": "https://localhost:8080/"
        },
        "id": "ntGUG4u0qwp_",
        "outputId": "12b5e769-4c75-4ad8-d9ce-b4726aaac15e"
      },
      "execution_count": 1,
      "outputs": [
        {
          "output_type": "stream",
          "name": "stdout",
          "text": [
            "1 2 8\n"
          ]
        }
      ]
    },
    {
      "cell_type": "markdown",
      "source": [
        "####2. What is the result of this code, and why?\n",
        "\n",
        "```\n",
        ">>> def func(a, b, c=5):\n",
        "print(a, b, c)\n",
        ">>> func(1, c=3, b=2)\n",
        "```\n",
        "\n"
      ],
      "metadata": {
        "id": "R_zcWS09q5Tq"
      }
    },
    {
      "cell_type": "markdown",
      "source": [
        "Ans:\n",
        " The result of the above code is 1 2 3. it is because the function will use default values only when a value for a argument is not provided and if argument name is mentioned while doing a function call, the order of arguments is also ignored by the python interpreter"
      ],
      "metadata": {
        "id": "qBDZh-IvrCgh"
      }
    },
    {
      "cell_type": "code",
      "source": [
        "def func(a,b,c=5):\n",
        "    print(a,b,c)\n",
        "func(1,c=3,b=2)"
      ],
      "metadata": {
        "colab": {
          "base_uri": "https://localhost:8080/"
        },
        "id": "56Tsu8umrIbi",
        "outputId": "b08fd2ac-8341-46cc-d542-84b2722d0fbc"
      },
      "execution_count": 2,
      "outputs": [
        {
          "output_type": "stream",
          "name": "stdout",
          "text": [
            "1 2 3\n"
          ]
        }
      ]
    },
    {
      "cell_type": "markdown",
      "source": [
        "####3. How about this code: what is its result, and why?\n",
        "\n",
        "```\n",
        ">>> def func(a, *pargs):\n",
        "print(a, pargs)\n",
        ">>> func(1, 2, 3)\n",
        "```\n",
        "\n"
      ],
      "metadata": {
        "id": "rE3wxnI6rTmI"
      }
    },
    {
      "cell_type": "markdown",
      "source": [
        "Ans:\n",
        " The result of the code is 1 (2,3). *pargs stands for variable length arguments. this format is used when we are not sure about the no of arguments to be passed to a function. all the values under this argument will be stored in a tuple.\n"
      ],
      "metadata": {
        "id": "Gpc-9FSJriQg"
      }
    },
    {
      "cell_type": "code",
      "source": [
        "def func(a, *pargs):\n",
        "    print(a,pargs)\n",
        "func(1,2,3)"
      ],
      "metadata": {
        "colab": {
          "base_uri": "https://localhost:8080/"
        },
        "id": "1YGI41yzrllG",
        "outputId": "70bbd6c7-ec08-4227-cc36-84d5ecc9b4c9"
      },
      "execution_count": 3,
      "outputs": [
        {
          "output_type": "stream",
          "name": "stdout",
          "text": [
            "1 (2, 3)\n"
          ]
        }
      ]
    },
    {
      "cell_type": "markdown",
      "source": [
        "####4. What does this code print, and why?\n",
        "\n",
        "```\n",
        ">>> def func(a, **kargs):\n",
        "print(a, kargs)\n",
        ">>> func(a=1, c=3, b=2)\n",
        "```\n",
        "\n"
      ],
      "metadata": {
        "id": "b_i5BNznrtyL"
      }
    },
    {
      "cell_type": "markdown",
      "source": [
        "Ans:\n",
        " The result of the above code is 1 {'c': 3, 'b': 2}. **args stands for variable length keyword arguments. this format is used when we want pass key value pairs as input to a function. All these key value pairs will be stored in a dictionary"
      ],
      "metadata": {
        "id": "_IQJrJ1xr1_A"
      }
    },
    {
      "cell_type": "code",
      "source": [
        "def func(a,**kargs):\n",
        "    print(a,kargs)\n",
        "func(a=1,c=3,b=2)"
      ],
      "metadata": {
        "colab": {
          "base_uri": "https://localhost:8080/"
        },
        "id": "5zMhfo7Fr742",
        "outputId": "9dd99324-1f97-4eaa-c368-7df3c70be665"
      },
      "execution_count": 4,
      "outputs": [
        {
          "output_type": "stream",
          "name": "stdout",
          "text": [
            "1 {'c': 3, 'b': 2}\n"
          ]
        }
      ]
    },
    {
      "cell_type": "markdown",
      "source": [
        "####6. what is the result of this, and explain?\n",
        "\n",
        "```\n",
        ">>> def func(a, b, c): a = 2; b[0] = 'x'; c['a'] = 'y'\n",
        ">>> l=1; m=[1]; n={'a':0}\n",
        ">>> func(l, m, n)\n",
        ">>> l, m, n\n",
        "```\n",
        "\n"
      ],
      "metadata": {
        "id": "U-L0XdJksL46"
      }
    },
    {
      "cell_type": "markdown",
      "source": [
        "Ans:\n",
        " The output of above code is 1, ['x'], {'a': 'y'}.\n",
        "\n",
        "Eventhough Python gives importance to indentation. its provides a facility to declare an entire function in one single line. where statements in a function body are sepereated by ;\n",
        "When l,m,n are provided as inputs to the function. its modifies the values of l,m,n and sets the value of l=2 ,m=['x'] and n={'a':'y'}"
      ],
      "metadata": {
        "id": "eYM8rGpssXxD"
      }
    },
    {
      "cell_type": "code",
      "source": [
        "def func(a, b, c): a = 2; b[0] = 'x'; c['a'] = 'y'\n",
        "l=1; m=[1]; n={'a':0}\n",
        "func(l, m, n)\n",
        "l,m,n"
      ],
      "metadata": {
        "colab": {
          "base_uri": "https://localhost:8080/"
        },
        "id": "sOJEcTfoshJo",
        "outputId": "4a587dda-9266-4092-8fd8-82613451156b"
      },
      "execution_count": 5,
      "outputs": [
        {
          "output_type": "execute_result",
          "data": {
            "text/plain": [
              "(1, ['x'], {'a': 'y'})"
            ]
          },
          "metadata": {},
          "execution_count": 5
        }
      ]
    }
  ]
}