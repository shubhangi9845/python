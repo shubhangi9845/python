{
 "cells": [
  {
   "cell_type": "code",
   "execution_count": 1,
   "id": "18848ab9",
   "metadata": {},
   "outputs": [],
   "source": [
    "import pandas as pd\n",
    "import numpy as np\n",
    "import matplotlib.pyplot as plt\n",
    "import seaborn as sns\n",
    "import plotly.express as px\n",
    "import warnings\n",
    "from six.moves import urllib\n",
    "\n",
    "warnings.filterwarnings(\"ignore\")\n",
    "\n",
    "%matplotlib inline"
   ]
  },
  {
   "cell_type": "code",
   "execution_count": 2,
   "id": "8648025e",
   "metadata": {},
   "outputs": [],
   "source": [
    "df = pd.read_csv(r\"C:\\Users\\91702\\Downloads\\Algerian_forest_fires_dataset_UPDATE.csv\")"
   ]
  },
  {
   "cell_type": "code",
   "execution_count": 3,
   "id": "04bd5bc2",
   "metadata": {},
   "outputs": [
    {
     "data": {
      "text/html": [
       "<div>\n",
       "<style scoped>\n",
       "    .dataframe tbody tr th:only-of-type {\n",
       "        vertical-align: middle;\n",
       "    }\n",
       "\n",
       "    .dataframe tbody tr th {\n",
       "        vertical-align: top;\n",
       "    }\n",
       "\n",
       "    .dataframe thead th {\n",
       "        text-align: right;\n",
       "    }\n",
       "</style>\n",
       "<table border=\"1\" class=\"dataframe\">\n",
       "  <thead>\n",
       "    <tr style=\"text-align: right;\">\n",
       "      <th></th>\n",
       "      <th>day</th>\n",
       "      <th>month</th>\n",
       "      <th>year</th>\n",
       "      <th>Temperature</th>\n",
       "      <th>RH</th>\n",
       "      <th>Ws</th>\n",
       "      <th>Rain</th>\n",
       "      <th>FFMC</th>\n",
       "      <th>DMC</th>\n",
       "      <th>DC</th>\n",
       "      <th>ISI</th>\n",
       "      <th>BUI</th>\n",
       "      <th>FWI</th>\n",
       "      <th>Classes</th>\n",
       "      <th>Region</th>\n",
       "    </tr>\n",
       "  </thead>\n",
       "  <tbody>\n",
       "    <tr>\n",
       "      <th>0</th>\n",
       "      <td>1</td>\n",
       "      <td>6</td>\n",
       "      <td>2012</td>\n",
       "      <td>29</td>\n",
       "      <td>57</td>\n",
       "      <td>18</td>\n",
       "      <td>0.0</td>\n",
       "      <td>65.7</td>\n",
       "      <td>3.4</td>\n",
       "      <td>7.6</td>\n",
       "      <td>1.3</td>\n",
       "      <td>3.4</td>\n",
       "      <td>0.5</td>\n",
       "      <td>not fire</td>\n",
       "      <td>0</td>\n",
       "    </tr>\n",
       "    <tr>\n",
       "      <th>1</th>\n",
       "      <td>2</td>\n",
       "      <td>6</td>\n",
       "      <td>2012</td>\n",
       "      <td>29</td>\n",
       "      <td>61</td>\n",
       "      <td>13</td>\n",
       "      <td>1.3</td>\n",
       "      <td>64.4</td>\n",
       "      <td>4.1</td>\n",
       "      <td>7.6</td>\n",
       "      <td>1.0</td>\n",
       "      <td>3.9</td>\n",
       "      <td>0.4</td>\n",
       "      <td>not fire</td>\n",
       "      <td>0</td>\n",
       "    </tr>\n",
       "    <tr>\n",
       "      <th>2</th>\n",
       "      <td>3</td>\n",
       "      <td>6</td>\n",
       "      <td>2012</td>\n",
       "      <td>26</td>\n",
       "      <td>82</td>\n",
       "      <td>22</td>\n",
       "      <td>13.1</td>\n",
       "      <td>47.1</td>\n",
       "      <td>2.5</td>\n",
       "      <td>7.1</td>\n",
       "      <td>0.3</td>\n",
       "      <td>2.7</td>\n",
       "      <td>0.1</td>\n",
       "      <td>not fire</td>\n",
       "      <td>0</td>\n",
       "    </tr>\n",
       "    <tr>\n",
       "      <th>3</th>\n",
       "      <td>4</td>\n",
       "      <td>6</td>\n",
       "      <td>2012</td>\n",
       "      <td>25</td>\n",
       "      <td>89</td>\n",
       "      <td>13</td>\n",
       "      <td>2.5</td>\n",
       "      <td>28.6</td>\n",
       "      <td>1.3</td>\n",
       "      <td>6.9</td>\n",
       "      <td>0.0</td>\n",
       "      <td>1.7</td>\n",
       "      <td>0</td>\n",
       "      <td>not fire</td>\n",
       "      <td>0</td>\n",
       "    </tr>\n",
       "    <tr>\n",
       "      <th>4</th>\n",
       "      <td>5</td>\n",
       "      <td>6</td>\n",
       "      <td>2012</td>\n",
       "      <td>27</td>\n",
       "      <td>77</td>\n",
       "      <td>16</td>\n",
       "      <td>0.0</td>\n",
       "      <td>64.8</td>\n",
       "      <td>3.0</td>\n",
       "      <td>14.2</td>\n",
       "      <td>1.2</td>\n",
       "      <td>3.9</td>\n",
       "      <td>0.5</td>\n",
       "      <td>not fire</td>\n",
       "      <td>0</td>\n",
       "    </tr>\n",
       "    <tr>\n",
       "      <th>...</th>\n",
       "      <td>...</td>\n",
       "      <td>...</td>\n",
       "      <td>...</td>\n",
       "      <td>...</td>\n",
       "      <td>...</td>\n",
       "      <td>...</td>\n",
       "      <td>...</td>\n",
       "      <td>...</td>\n",
       "      <td>...</td>\n",
       "      <td>...</td>\n",
       "      <td>...</td>\n",
       "      <td>...</td>\n",
       "      <td>...</td>\n",
       "      <td>...</td>\n",
       "      <td>...</td>\n",
       "    </tr>\n",
       "    <tr>\n",
       "      <th>239</th>\n",
       "      <td>26</td>\n",
       "      <td>9</td>\n",
       "      <td>2012</td>\n",
       "      <td>30</td>\n",
       "      <td>65</td>\n",
       "      <td>14</td>\n",
       "      <td>0.0</td>\n",
       "      <td>85.4</td>\n",
       "      <td>16.0</td>\n",
       "      <td>44.5</td>\n",
       "      <td>4.5</td>\n",
       "      <td>16.9</td>\n",
       "      <td>6.5</td>\n",
       "      <td>fire</td>\n",
       "      <td>1</td>\n",
       "    </tr>\n",
       "    <tr>\n",
       "      <th>240</th>\n",
       "      <td>27</td>\n",
       "      <td>9</td>\n",
       "      <td>2012</td>\n",
       "      <td>28</td>\n",
       "      <td>87</td>\n",
       "      <td>15</td>\n",
       "      <td>4.4</td>\n",
       "      <td>41.1</td>\n",
       "      <td>6.5</td>\n",
       "      <td>8</td>\n",
       "      <td>0.1</td>\n",
       "      <td>6.2</td>\n",
       "      <td>0</td>\n",
       "      <td>not fire</td>\n",
       "      <td>1</td>\n",
       "    </tr>\n",
       "    <tr>\n",
       "      <th>241</th>\n",
       "      <td>28</td>\n",
       "      <td>9</td>\n",
       "      <td>2012</td>\n",
       "      <td>27</td>\n",
       "      <td>87</td>\n",
       "      <td>29</td>\n",
       "      <td>0.5</td>\n",
       "      <td>45.9</td>\n",
       "      <td>3.5</td>\n",
       "      <td>7.9</td>\n",
       "      <td>0.4</td>\n",
       "      <td>3.4</td>\n",
       "      <td>0.2</td>\n",
       "      <td>not fire</td>\n",
       "      <td>1</td>\n",
       "    </tr>\n",
       "    <tr>\n",
       "      <th>242</th>\n",
       "      <td>29</td>\n",
       "      <td>9</td>\n",
       "      <td>2012</td>\n",
       "      <td>24</td>\n",
       "      <td>54</td>\n",
       "      <td>18</td>\n",
       "      <td>0.1</td>\n",
       "      <td>79.7</td>\n",
       "      <td>4.3</td>\n",
       "      <td>15.2</td>\n",
       "      <td>1.7</td>\n",
       "      <td>5.1</td>\n",
       "      <td>0.7</td>\n",
       "      <td>not fire</td>\n",
       "      <td>1</td>\n",
       "    </tr>\n",
       "    <tr>\n",
       "      <th>243</th>\n",
       "      <td>30</td>\n",
       "      <td>9</td>\n",
       "      <td>2012</td>\n",
       "      <td>24</td>\n",
       "      <td>64</td>\n",
       "      <td>15</td>\n",
       "      <td>0.2</td>\n",
       "      <td>67.3</td>\n",
       "      <td>3.8</td>\n",
       "      <td>16.5</td>\n",
       "      <td>1.2</td>\n",
       "      <td>4.8</td>\n",
       "      <td>0.5</td>\n",
       "      <td>not fire</td>\n",
       "      <td>1</td>\n",
       "    </tr>\n",
       "  </tbody>\n",
       "</table>\n",
       "<p>244 rows × 15 columns</p>\n",
       "</div>"
      ],
      "text/plain": [
       "     day  month  year  Temperature   RH   Ws  Rain   FFMC   DMC    DC  ISI  \\\n",
       "0      1      6  2012           29   57   18    0.0  65.7   3.4   7.6  1.3   \n",
       "1      2      6  2012           29   61   13    1.3  64.4   4.1   7.6  1.0   \n",
       "2      3      6  2012           26   82   22   13.1  47.1   2.5   7.1  0.3   \n",
       "3      4      6  2012           25   89   13    2.5  28.6   1.3   6.9  0.0   \n",
       "4      5      6  2012           27   77   16    0.0  64.8   3.0  14.2  1.2   \n",
       "..   ...    ...   ...          ...  ...  ...    ...   ...   ...   ...  ...   \n",
       "239   26      9  2012           30   65   14    0.0  85.4  16.0  44.5  4.5   \n",
       "240   27      9  2012           28   87   15    4.4  41.1   6.5     8  0.1   \n",
       "241   28      9  2012           27   87   29    0.5  45.9   3.5   7.9  0.4   \n",
       "242   29      9  2012           24   54   18    0.1  79.7   4.3  15.2  1.7   \n",
       "243   30      9  2012           24   64   15    0.2  67.3   3.8  16.5  1.2   \n",
       "\n",
       "      BUI  FWI     Classes    Region  \n",
       "0     3.4  0.5   not fire          0  \n",
       "1     3.9  0.4   not fire          0  \n",
       "2     2.7  0.1   not fire          0  \n",
       "3     1.7    0   not fire          0  \n",
       "4     3.9  0.5   not fire          0  \n",
       "..    ...  ...           ...     ...  \n",
       "239  16.9  6.5       fire          1  \n",
       "240   6.2    0   not fire          1  \n",
       "241   3.4  0.2   not fire          1  \n",
       "242   5.1  0.7   not fire          1  \n",
       "243   4.8  0.5  not fire           1  \n",
       "\n",
       "[244 rows x 15 columns]"
      ]
     },
     "execution_count": 3,
     "metadata": {},
     "output_type": "execute_result"
    }
   ],
   "source": [
    "df"
   ]
  },
  {
   "cell_type": "code",
   "execution_count": 4,
   "id": "1caa771b",
   "metadata": {},
   "outputs": [
    {
     "data": {
      "text/plain": [
       "day              int64\n",
       "month            int64\n",
       "year             int64\n",
       "Temperature      int64\n",
       " RH              int64\n",
       " Ws              int64\n",
       "Rain           float64\n",
       "FFMC           float64\n",
       "DMC            float64\n",
       "DC              object\n",
       "ISI            float64\n",
       "BUI            float64\n",
       "FWI             object\n",
       "Classes         object\n",
       "Region           int64\n",
       "dtype: object"
      ]
     },
     "execution_count": 4,
     "metadata": {},
     "output_type": "execute_result"
    }
   ],
   "source": [
    "df.dtypes"
   ]
  },
  {
   "cell_type": "code",
   "execution_count": 5,
   "id": "0b93b815",
   "metadata": {},
   "outputs": [
    {
     "name": "stdout",
     "output_type": "stream",
     "text": [
      "<class 'pandas.core.frame.DataFrame'>\n",
      "RangeIndex: 244 entries, 0 to 243\n",
      "Data columns (total 15 columns):\n",
      " #   Column       Non-Null Count  Dtype  \n",
      "---  ------       --------------  -----  \n",
      " 0   day          244 non-null    int64  \n",
      " 1   month        244 non-null    int64  \n",
      " 2   year         244 non-null    int64  \n",
      " 3   Temperature  244 non-null    int64  \n",
      " 4    RH          244 non-null    int64  \n",
      " 5    Ws          244 non-null    int64  \n",
      " 6   Rain         244 non-null    float64\n",
      " 7   FFMC         244 non-null    float64\n",
      " 8   DMC          244 non-null    float64\n",
      " 9   DC           244 non-null    object \n",
      " 10  ISI          244 non-null    float64\n",
      " 11  BUI          244 non-null    float64\n",
      " 12  FWI          244 non-null    object \n",
      " 13  Classes      243 non-null    object \n",
      " 14  Region       244 non-null    int64  \n",
      "dtypes: float64(5), int64(7), object(3)\n",
      "memory usage: 28.7+ KB\n"
     ]
    }
   ],
   "source": [
    "df.info()"
   ]
  },
  {
   "cell_type": "code",
   "execution_count": 6,
   "id": "1b08639d",
   "metadata": {},
   "outputs": [
    {
     "data": {
      "text/html": [
       "<div>\n",
       "<style scoped>\n",
       "    .dataframe tbody tr th:only-of-type {\n",
       "        vertical-align: middle;\n",
       "    }\n",
       "\n",
       "    .dataframe tbody tr th {\n",
       "        vertical-align: top;\n",
       "    }\n",
       "\n",
       "    .dataframe thead th {\n",
       "        text-align: right;\n",
       "    }\n",
       "</style>\n",
       "<table border=\"1\" class=\"dataframe\">\n",
       "  <thead>\n",
       "    <tr style=\"text-align: right;\">\n",
       "      <th></th>\n",
       "      <th>day</th>\n",
       "      <th>month</th>\n",
       "      <th>year</th>\n",
       "      <th>Temperature</th>\n",
       "      <th>RH</th>\n",
       "      <th>Ws</th>\n",
       "      <th>Rain</th>\n",
       "      <th>FFMC</th>\n",
       "      <th>DMC</th>\n",
       "      <th>ISI</th>\n",
       "      <th>BUI</th>\n",
       "      <th>Region</th>\n",
       "    </tr>\n",
       "  </thead>\n",
       "  <tbody>\n",
       "    <tr>\n",
       "      <th>count</th>\n",
       "      <td>244.000000</td>\n",
       "      <td>244.000000</td>\n",
       "      <td>244.0</td>\n",
       "      <td>244.000000</td>\n",
       "      <td>244.000000</td>\n",
       "      <td>244.000000</td>\n",
       "      <td>244.000000</td>\n",
       "      <td>244.000000</td>\n",
       "      <td>244.000000</td>\n",
       "      <td>244.000000</td>\n",
       "      <td>244.000000</td>\n",
       "      <td>244.000000</td>\n",
       "    </tr>\n",
       "    <tr>\n",
       "      <th>mean</th>\n",
       "      <td>15.754098</td>\n",
       "      <td>7.500000</td>\n",
       "      <td>2012.0</td>\n",
       "      <td>32.172131</td>\n",
       "      <td>61.938525</td>\n",
       "      <td>15.504098</td>\n",
       "      <td>0.760656</td>\n",
       "      <td>77.887705</td>\n",
       "      <td>14.673361</td>\n",
       "      <td>4.774180</td>\n",
       "      <td>16.664754</td>\n",
       "      <td>0.500000</td>\n",
       "    </tr>\n",
       "    <tr>\n",
       "      <th>std</th>\n",
       "      <td>8.825059</td>\n",
       "      <td>1.112961</td>\n",
       "      <td>0.0</td>\n",
       "      <td>3.633843</td>\n",
       "      <td>14.884200</td>\n",
       "      <td>2.810178</td>\n",
       "      <td>1.999406</td>\n",
       "      <td>14.337571</td>\n",
       "      <td>12.368039</td>\n",
       "      <td>4.175318</td>\n",
       "      <td>14.204824</td>\n",
       "      <td>0.501028</td>\n",
       "    </tr>\n",
       "    <tr>\n",
       "      <th>min</th>\n",
       "      <td>1.000000</td>\n",
       "      <td>6.000000</td>\n",
       "      <td>2012.0</td>\n",
       "      <td>22.000000</td>\n",
       "      <td>21.000000</td>\n",
       "      <td>6.000000</td>\n",
       "      <td>0.000000</td>\n",
       "      <td>28.600000</td>\n",
       "      <td>0.700000</td>\n",
       "      <td>0.000000</td>\n",
       "      <td>1.100000</td>\n",
       "      <td>0.000000</td>\n",
       "    </tr>\n",
       "    <tr>\n",
       "      <th>25%</th>\n",
       "      <td>8.000000</td>\n",
       "      <td>7.000000</td>\n",
       "      <td>2012.0</td>\n",
       "      <td>30.000000</td>\n",
       "      <td>52.000000</td>\n",
       "      <td>14.000000</td>\n",
       "      <td>0.000000</td>\n",
       "      <td>72.075000</td>\n",
       "      <td>5.800000</td>\n",
       "      <td>1.400000</td>\n",
       "      <td>6.000000</td>\n",
       "      <td>0.000000</td>\n",
       "    </tr>\n",
       "    <tr>\n",
       "      <th>50%</th>\n",
       "      <td>16.000000</td>\n",
       "      <td>7.500000</td>\n",
       "      <td>2012.0</td>\n",
       "      <td>32.000000</td>\n",
       "      <td>63.000000</td>\n",
       "      <td>15.000000</td>\n",
       "      <td>0.000000</td>\n",
       "      <td>83.500000</td>\n",
       "      <td>11.300000</td>\n",
       "      <td>3.500000</td>\n",
       "      <td>12.250000</td>\n",
       "      <td>0.500000</td>\n",
       "    </tr>\n",
       "    <tr>\n",
       "      <th>75%</th>\n",
       "      <td>23.000000</td>\n",
       "      <td>8.000000</td>\n",
       "      <td>2012.0</td>\n",
       "      <td>35.000000</td>\n",
       "      <td>73.250000</td>\n",
       "      <td>17.000000</td>\n",
       "      <td>0.500000</td>\n",
       "      <td>88.300000</td>\n",
       "      <td>20.750000</td>\n",
       "      <td>7.300000</td>\n",
       "      <td>22.525000</td>\n",
       "      <td>1.000000</td>\n",
       "    </tr>\n",
       "    <tr>\n",
       "      <th>max</th>\n",
       "      <td>31.000000</td>\n",
       "      <td>9.000000</td>\n",
       "      <td>2012.0</td>\n",
       "      <td>42.000000</td>\n",
       "      <td>90.000000</td>\n",
       "      <td>29.000000</td>\n",
       "      <td>16.800000</td>\n",
       "      <td>96.000000</td>\n",
       "      <td>65.900000</td>\n",
       "      <td>19.000000</td>\n",
       "      <td>68.000000</td>\n",
       "      <td>1.000000</td>\n",
       "    </tr>\n",
       "  </tbody>\n",
       "</table>\n",
       "</div>"
      ],
      "text/plain": [
       "              day       month    year  Temperature          RH          Ws  \\\n",
       "count  244.000000  244.000000   244.0   244.000000  244.000000  244.000000   \n",
       "mean    15.754098    7.500000  2012.0    32.172131   61.938525   15.504098   \n",
       "std      8.825059    1.112961     0.0     3.633843   14.884200    2.810178   \n",
       "min      1.000000    6.000000  2012.0    22.000000   21.000000    6.000000   \n",
       "25%      8.000000    7.000000  2012.0    30.000000   52.000000   14.000000   \n",
       "50%     16.000000    7.500000  2012.0    32.000000   63.000000   15.000000   \n",
       "75%     23.000000    8.000000  2012.0    35.000000   73.250000   17.000000   \n",
       "max     31.000000    9.000000  2012.0    42.000000   90.000000   29.000000   \n",
       "\n",
       "            Rain         FFMC         DMC         ISI         BUI      Region  \n",
       "count  244.000000  244.000000  244.000000  244.000000  244.000000  244.000000  \n",
       "mean     0.760656   77.887705   14.673361    4.774180   16.664754    0.500000  \n",
       "std      1.999406   14.337571   12.368039    4.175318   14.204824    0.501028  \n",
       "min      0.000000   28.600000    0.700000    0.000000    1.100000    0.000000  \n",
       "25%      0.000000   72.075000    5.800000    1.400000    6.000000    0.000000  \n",
       "50%      0.000000   83.500000   11.300000    3.500000   12.250000    0.500000  \n",
       "75%      0.500000   88.300000   20.750000    7.300000   22.525000    1.000000  \n",
       "max     16.800000   96.000000   65.900000   19.000000   68.000000    1.000000  "
      ]
     },
     "execution_count": 6,
     "metadata": {},
     "output_type": "execute_result"
    }
   ],
   "source": [
    "df.describe()"
   ]
  },
  {
   "cell_type": "code",
   "execution_count": 7,
   "id": "2b96120a",
   "metadata": {},
   "outputs": [
    {
     "data": {
      "text/plain": [
       "(244, 15)"
      ]
     },
     "execution_count": 7,
     "metadata": {},
     "output_type": "execute_result"
    }
   ],
   "source": [
    "df.shape"
   ]
  },
  {
   "cell_type": "markdown",
   "id": "934e39ff",
   "metadata": {},
   "source": [
    "### Data Cleaning"
   ]
  },
  {
   "cell_type": "code",
   "execution_count": 8,
   "id": "9b251c9e",
   "metadata": {},
   "outputs": [
    {
     "data": {
      "text/plain": [
       "day            0\n",
       "month          0\n",
       "year           0\n",
       "Temperature    0\n",
       " RH            0\n",
       " Ws            0\n",
       "Rain           0\n",
       "FFMC           0\n",
       "DMC            0\n",
       "DC             0\n",
       "ISI            0\n",
       "BUI            0\n",
       "FWI            0\n",
       "Classes        1\n",
       "Region         0\n",
       "dtype: int64"
      ]
     },
     "execution_count": 8,
     "metadata": {},
     "output_type": "execute_result"
    }
   ],
   "source": [
    "df.isnull().sum()"
   ]
  },
  {
   "cell_type": "code",
   "execution_count": 9,
   "id": "51edad07",
   "metadata": {},
   "outputs": [],
   "source": [
    "# inorder to check the row which is having the missing value"
   ]
  },
  {
   "cell_type": "code",
   "execution_count": 10,
   "id": "92f54dc4",
   "metadata": {},
   "outputs": [
    {
     "data": {
      "text/html": [
       "<div>\n",
       "<style scoped>\n",
       "    .dataframe tbody tr th:only-of-type {\n",
       "        vertical-align: middle;\n",
       "    }\n",
       "\n",
       "    .dataframe tbody tr th {\n",
       "        vertical-align: top;\n",
       "    }\n",
       "\n",
       "    .dataframe thead th {\n",
       "        text-align: right;\n",
       "    }\n",
       "</style>\n",
       "<table border=\"1\" class=\"dataframe\">\n",
       "  <thead>\n",
       "    <tr style=\"text-align: right;\">\n",
       "      <th></th>\n",
       "      <th>day</th>\n",
       "      <th>month</th>\n",
       "      <th>year</th>\n",
       "      <th>Temperature</th>\n",
       "      <th>RH</th>\n",
       "      <th>Ws</th>\n",
       "      <th>Rain</th>\n",
       "      <th>FFMC</th>\n",
       "      <th>DMC</th>\n",
       "      <th>DC</th>\n",
       "      <th>ISI</th>\n",
       "      <th>BUI</th>\n",
       "      <th>FWI</th>\n",
       "      <th>Classes</th>\n",
       "      <th>Region</th>\n",
       "    </tr>\n",
       "  </thead>\n",
       "  <tbody>\n",
       "    <tr>\n",
       "      <th>165</th>\n",
       "      <td>14</td>\n",
       "      <td>7</td>\n",
       "      <td>2012</td>\n",
       "      <td>37</td>\n",
       "      <td>37</td>\n",
       "      <td>18</td>\n",
       "      <td>0.2</td>\n",
       "      <td>88.9</td>\n",
       "      <td>12.9</td>\n",
       "      <td>14.6 9</td>\n",
       "      <td>12.5</td>\n",
       "      <td>10.4</td>\n",
       "      <td>fire</td>\n",
       "      <td>NaN</td>\n",
       "      <td>1</td>\n",
       "    </tr>\n",
       "  </tbody>\n",
       "</table>\n",
       "</div>"
      ],
      "text/plain": [
       "     day  month  year  Temperature   RH   Ws  Rain   FFMC   DMC      DC   ISI  \\\n",
       "165   14      7  2012           37   37   18    0.2  88.9  12.9  14.6 9  12.5   \n",
       "\n",
       "      BUI      FWI Classes    Region  \n",
       "165  10.4  fire          NaN       1  "
      ]
     },
     "execution_count": 10,
     "metadata": {},
     "output_type": "execute_result"
    }
   ],
   "source": [
    "df[df.isnull().any(axis=1)] "
   ]
  },
  {
   "cell_type": "code",
   "execution_count": 11,
   "id": "1c7828c2",
   "metadata": {},
   "outputs": [
    {
     "data": {
      "text/html": [
       "<div>\n",
       "<style scoped>\n",
       "    .dataframe tbody tr th:only-of-type {\n",
       "        vertical-align: middle;\n",
       "    }\n",
       "\n",
       "    .dataframe tbody tr th {\n",
       "        vertical-align: top;\n",
       "    }\n",
       "\n",
       "    .dataframe thead th {\n",
       "        text-align: right;\n",
       "    }\n",
       "</style>\n",
       "<table border=\"1\" class=\"dataframe\">\n",
       "  <thead>\n",
       "    <tr style=\"text-align: right;\">\n",
       "      <th></th>\n",
       "      <th>day</th>\n",
       "      <th>month</th>\n",
       "      <th>year</th>\n",
       "      <th>Temperature</th>\n",
       "      <th>RH</th>\n",
       "      <th>Ws</th>\n",
       "      <th>Rain</th>\n",
       "      <th>FFMC</th>\n",
       "      <th>DMC</th>\n",
       "      <th>DC</th>\n",
       "      <th>ISI</th>\n",
       "      <th>BUI</th>\n",
       "      <th>FWI</th>\n",
       "      <th>Classes</th>\n",
       "      <th>Region</th>\n",
       "    </tr>\n",
       "  </thead>\n",
       "  <tbody>\n",
       "    <tr>\n",
       "      <th>234</th>\n",
       "      <td>21</td>\n",
       "      <td>9</td>\n",
       "      <td>2012</td>\n",
       "      <td>35</td>\n",
       "      <td>34</td>\n",
       "      <td>17</td>\n",
       "      <td>0.0</td>\n",
       "      <td>92.2</td>\n",
       "      <td>23.6</td>\n",
       "      <td>97.3</td>\n",
       "      <td>13.8</td>\n",
       "      <td>29.4</td>\n",
       "      <td>21.6</td>\n",
       "      <td>fire</td>\n",
       "      <td>1</td>\n",
       "    </tr>\n",
       "    <tr>\n",
       "      <th>235</th>\n",
       "      <td>22</td>\n",
       "      <td>9</td>\n",
       "      <td>2012</td>\n",
       "      <td>33</td>\n",
       "      <td>64</td>\n",
       "      <td>13</td>\n",
       "      <td>0.0</td>\n",
       "      <td>88.9</td>\n",
       "      <td>26.1</td>\n",
       "      <td>106.3</td>\n",
       "      <td>7.1</td>\n",
       "      <td>32.4</td>\n",
       "      <td>13.7</td>\n",
       "      <td>fire</td>\n",
       "      <td>1</td>\n",
       "    </tr>\n",
       "    <tr>\n",
       "      <th>236</th>\n",
       "      <td>23</td>\n",
       "      <td>9</td>\n",
       "      <td>2012</td>\n",
       "      <td>35</td>\n",
       "      <td>56</td>\n",
       "      <td>14</td>\n",
       "      <td>0.0</td>\n",
       "      <td>89.0</td>\n",
       "      <td>29.4</td>\n",
       "      <td>115.6</td>\n",
       "      <td>7.5</td>\n",
       "      <td>36.0</td>\n",
       "      <td>15.2</td>\n",
       "      <td>fire</td>\n",
       "      <td>1</td>\n",
       "    </tr>\n",
       "    <tr>\n",
       "      <th>237</th>\n",
       "      <td>24</td>\n",
       "      <td>9</td>\n",
       "      <td>2012</td>\n",
       "      <td>26</td>\n",
       "      <td>49</td>\n",
       "      <td>6</td>\n",
       "      <td>2.0</td>\n",
       "      <td>61.3</td>\n",
       "      <td>11.9</td>\n",
       "      <td>28.1</td>\n",
       "      <td>0.6</td>\n",
       "      <td>11.9</td>\n",
       "      <td>0.4</td>\n",
       "      <td>not fire</td>\n",
       "      <td>1</td>\n",
       "    </tr>\n",
       "    <tr>\n",
       "      <th>238</th>\n",
       "      <td>25</td>\n",
       "      <td>9</td>\n",
       "      <td>2012</td>\n",
       "      <td>28</td>\n",
       "      <td>70</td>\n",
       "      <td>15</td>\n",
       "      <td>0.0</td>\n",
       "      <td>79.9</td>\n",
       "      <td>13.8</td>\n",
       "      <td>36.1</td>\n",
       "      <td>2.4</td>\n",
       "      <td>14.1</td>\n",
       "      <td>3</td>\n",
       "      <td>not fire</td>\n",
       "      <td>1</td>\n",
       "    </tr>\n",
       "    <tr>\n",
       "      <th>239</th>\n",
       "      <td>26</td>\n",
       "      <td>9</td>\n",
       "      <td>2012</td>\n",
       "      <td>30</td>\n",
       "      <td>65</td>\n",
       "      <td>14</td>\n",
       "      <td>0.0</td>\n",
       "      <td>85.4</td>\n",
       "      <td>16.0</td>\n",
       "      <td>44.5</td>\n",
       "      <td>4.5</td>\n",
       "      <td>16.9</td>\n",
       "      <td>6.5</td>\n",
       "      <td>fire</td>\n",
       "      <td>1</td>\n",
       "    </tr>\n",
       "    <tr>\n",
       "      <th>240</th>\n",
       "      <td>27</td>\n",
       "      <td>9</td>\n",
       "      <td>2012</td>\n",
       "      <td>28</td>\n",
       "      <td>87</td>\n",
       "      <td>15</td>\n",
       "      <td>4.4</td>\n",
       "      <td>41.1</td>\n",
       "      <td>6.5</td>\n",
       "      <td>8</td>\n",
       "      <td>0.1</td>\n",
       "      <td>6.2</td>\n",
       "      <td>0</td>\n",
       "      <td>not fire</td>\n",
       "      <td>1</td>\n",
       "    </tr>\n",
       "    <tr>\n",
       "      <th>241</th>\n",
       "      <td>28</td>\n",
       "      <td>9</td>\n",
       "      <td>2012</td>\n",
       "      <td>27</td>\n",
       "      <td>87</td>\n",
       "      <td>29</td>\n",
       "      <td>0.5</td>\n",
       "      <td>45.9</td>\n",
       "      <td>3.5</td>\n",
       "      <td>7.9</td>\n",
       "      <td>0.4</td>\n",
       "      <td>3.4</td>\n",
       "      <td>0.2</td>\n",
       "      <td>not fire</td>\n",
       "      <td>1</td>\n",
       "    </tr>\n",
       "    <tr>\n",
       "      <th>242</th>\n",
       "      <td>29</td>\n",
       "      <td>9</td>\n",
       "      <td>2012</td>\n",
       "      <td>24</td>\n",
       "      <td>54</td>\n",
       "      <td>18</td>\n",
       "      <td>0.1</td>\n",
       "      <td>79.7</td>\n",
       "      <td>4.3</td>\n",
       "      <td>15.2</td>\n",
       "      <td>1.7</td>\n",
       "      <td>5.1</td>\n",
       "      <td>0.7</td>\n",
       "      <td>not fire</td>\n",
       "      <td>1</td>\n",
       "    </tr>\n",
       "    <tr>\n",
       "      <th>243</th>\n",
       "      <td>30</td>\n",
       "      <td>9</td>\n",
       "      <td>2012</td>\n",
       "      <td>24</td>\n",
       "      <td>64</td>\n",
       "      <td>15</td>\n",
       "      <td>0.2</td>\n",
       "      <td>67.3</td>\n",
       "      <td>3.8</td>\n",
       "      <td>16.5</td>\n",
       "      <td>1.2</td>\n",
       "      <td>4.8</td>\n",
       "      <td>0.5</td>\n",
       "      <td>not fire</td>\n",
       "      <td>1</td>\n",
       "    </tr>\n",
       "  </tbody>\n",
       "</table>\n",
       "</div>"
      ],
      "text/plain": [
       "     day  month  year  Temperature   RH   Ws  Rain   FFMC   DMC     DC   ISI  \\\n",
       "234   21      9  2012           35   34   17    0.0  92.2  23.6   97.3  13.8   \n",
       "235   22      9  2012           33   64   13    0.0  88.9  26.1  106.3   7.1   \n",
       "236   23      9  2012           35   56   14    0.0  89.0  29.4  115.6   7.5   \n",
       "237   24      9  2012           26   49    6    2.0  61.3  11.9   28.1   0.6   \n",
       "238   25      9  2012           28   70   15    0.0  79.9  13.8   36.1   2.4   \n",
       "239   26      9  2012           30   65   14    0.0  85.4  16.0   44.5   4.5   \n",
       "240   27      9  2012           28   87   15    4.4  41.1   6.5      8   0.1   \n",
       "241   28      9  2012           27   87   29    0.5  45.9   3.5    7.9   0.4   \n",
       "242   29      9  2012           24   54   18    0.1  79.7   4.3   15.2   1.7   \n",
       "243   30      9  2012           24   64   15    0.2  67.3   3.8   16.5   1.2   \n",
       "\n",
       "      BUI   FWI     Classes    Region  \n",
       "234  29.4  21.6       fire          1  \n",
       "235  32.4  13.7       fire          1  \n",
       "236  36.0  15.2       fire          1  \n",
       "237  11.9   0.4   not fire          1  \n",
       "238  14.1     3   not fire          1  \n",
       "239  16.9   6.5       fire          1  \n",
       "240   6.2     0   not fire          1  \n",
       "241   3.4   0.2   not fire          1  \n",
       "242   5.1   0.7   not fire          1  \n",
       "243   4.8   0.5  not fire           1  "
      ]
     },
     "execution_count": 11,
     "metadata": {},
     "output_type": "execute_result"
    }
   ],
   "source": [
    "df.tail(10)"
   ]
  },
  {
   "cell_type": "code",
   "execution_count": 12,
   "id": "50e9c102",
   "metadata": {},
   "outputs": [
    {
     "data": {
      "text/html": [
       "<div>\n",
       "<style scoped>\n",
       "    .dataframe tbody tr th:only-of-type {\n",
       "        vertical-align: middle;\n",
       "    }\n",
       "\n",
       "    .dataframe tbody tr th {\n",
       "        vertical-align: top;\n",
       "    }\n",
       "\n",
       "    .dataframe thead th {\n",
       "        text-align: right;\n",
       "    }\n",
       "</style>\n",
       "<table border=\"1\" class=\"dataframe\">\n",
       "  <thead>\n",
       "    <tr style=\"text-align: right;\">\n",
       "      <th></th>\n",
       "      <th>day</th>\n",
       "      <th>month</th>\n",
       "      <th>year</th>\n",
       "      <th>Temperature</th>\n",
       "      <th>RH</th>\n",
       "      <th>Ws</th>\n",
       "      <th>Rain</th>\n",
       "      <th>FFMC</th>\n",
       "      <th>DMC</th>\n",
       "      <th>DC</th>\n",
       "      <th>ISI</th>\n",
       "      <th>BUI</th>\n",
       "      <th>FWI</th>\n",
       "      <th>Classes</th>\n",
       "      <th>Region</th>\n",
       "    </tr>\n",
       "  </thead>\n",
       "  <tbody>\n",
       "  </tbody>\n",
       "</table>\n",
       "</div>"
      ],
      "text/plain": [
       "Empty DataFrame\n",
       "Columns: [day, month, year, Temperature,  RH,  Ws, Rain , FFMC, DMC, DC, ISI, BUI, FWI, Classes  , Region]\n",
       "Index: []"
      ]
     },
     "execution_count": 12,
     "metadata": {},
     "output_type": "execute_result"
    }
   ],
   "source": [
    "df[df.duplicated()]"
   ]
  },
  {
   "cell_type": "code",
   "execution_count": 13,
   "id": "1a764075",
   "metadata": {},
   "outputs": [],
   "source": [
    "##no duplicated data"
   ]
  },
  {
   "cell_type": "code",
   "execution_count": 14,
   "id": "5422a302",
   "metadata": {},
   "outputs": [
    {
     "data": {
      "text/plain": [
       "Index(['day', 'month', 'year', 'Temperature', ' RH', ' Ws', 'Rain ', 'FFMC',\n",
       "       'DMC', 'DC', 'ISI', 'BUI', 'FWI', 'Classes  ', 'Region'],\n",
       "      dtype='object')"
      ]
     },
     "execution_count": 14,
     "metadata": {},
     "output_type": "execute_result"
    }
   ],
   "source": [
    "# List out column names to check \n",
    "df.columns"
   ]
  },
  {
   "cell_type": "code",
   "execution_count": 15,
   "id": "4d35bb6d",
   "metadata": {},
   "outputs": [
    {
     "data": {
      "text/plain": [
       "Index(['day', 'month', 'year', 'Temperature', 'RH', 'Ws', 'Rain', 'FFMC',\n",
       "       'DMC', 'DC', 'ISI', 'BUI', 'FWI', 'Classes', 'Region'],\n",
       "      dtype='object')"
      ]
     },
     "execution_count": 15,
     "metadata": {},
     "output_type": "execute_result"
    }
   ],
   "source": [
    "# Spaces were fixed in the column names\n",
    "df.columns = df.columns.str.strip()\n",
    "df.columns"
   ]
  },
  {
   "cell_type": "code",
   "execution_count": 16,
   "id": "22db3b7b",
   "metadata": {},
   "outputs": [],
   "source": [
    "#remove 165th row as it has string value for FWI\n",
    "df = df.drop(165).reset_index(drop=True)"
   ]
  },
  {
   "cell_type": "code",
   "execution_count": 17,
   "id": "eb302804",
   "metadata": {},
   "outputs": [],
   "source": [
    "df[['month', 'day', 'year', 'Temperature','RH', 'Ws']] = df[['month', 'day', 'year', 'Temperature','RH', 'Ws']].astype(int)"
   ]
  },
  {
   "cell_type": "code",
   "execution_count": 18,
   "id": "b55e4649",
   "metadata": {},
   "outputs": [],
   "source": [
    "objects = [features for features in df.columns if df[features].dtypes=='O']\n",
    "for i in objects:\n",
    "    if i != 'Classes':\n",
    "        df[i] = df[i].astype(float)"
   ]
  },
  {
   "cell_type": "code",
   "execution_count": 19,
   "id": "07a46fa9",
   "metadata": {},
   "outputs": [
    {
     "data": {
      "text/plain": [
       "(243, 15)"
      ]
     },
     "execution_count": 19,
     "metadata": {},
     "output_type": "execute_result"
    }
   ],
   "source": [
    "df.shape"
   ]
  },
  {
   "cell_type": "code",
   "execution_count": 20,
   "id": "30e060a2",
   "metadata": {},
   "outputs": [
    {
     "name": "stdout",
     "output_type": "stream",
     "text": [
      "<class 'pandas.core.frame.DataFrame'>\n",
      "RangeIndex: 243 entries, 0 to 242\n",
      "Data columns (total 15 columns):\n",
      " #   Column       Non-Null Count  Dtype  \n",
      "---  ------       --------------  -----  \n",
      " 0   day          243 non-null    int32  \n",
      " 1   month        243 non-null    int32  \n",
      " 2   year         243 non-null    int32  \n",
      " 3   Temperature  243 non-null    int32  \n",
      " 4   RH           243 non-null    int32  \n",
      " 5   Ws           243 non-null    int32  \n",
      " 6   Rain         243 non-null    float64\n",
      " 7   FFMC         243 non-null    float64\n",
      " 8   DMC          243 non-null    float64\n",
      " 9   DC           243 non-null    float64\n",
      " 10  ISI          243 non-null    float64\n",
      " 11  BUI          243 non-null    float64\n",
      " 12  FWI          243 non-null    float64\n",
      " 13  Classes      243 non-null    object \n",
      " 14  Region       243 non-null    int64  \n",
      "dtypes: float64(7), int32(6), int64(1), object(1)\n",
      "memory usage: 22.9+ KB\n"
     ]
    }
   ],
   "source": [
    "df.info()"
   ]
  },
  {
   "cell_type": "code",
   "execution_count": 21,
   "id": "664aece3",
   "metadata": {},
   "outputs": [
    {
     "data": {
      "text/plain": [
       "fire             131\n",
       "not fire         101\n",
       "fire               4\n",
       "fire               2\n",
       "not fire           2\n",
       "not fire           1\n",
       "not fire           1\n",
       "not fire           1\n",
       "Name: Classes, dtype: int64"
      ]
     },
     "execution_count": 21,
     "metadata": {},
     "output_type": "execute_result"
    }
   ],
   "source": [
    "df[\"Classes\"].value_counts()"
   ]
  },
  {
   "cell_type": "raw",
   "id": "5aab6782",
   "metadata": {},
   "source": [
    "dependent feature(Classes) containig only two categories but due to misspace it is showing multiple category so need to change the spaceing in order to make two category"
   ]
  },
  {
   "cell_type": "code",
   "execution_count": 22,
   "id": "c6fca469",
   "metadata": {},
   "outputs": [
    {
     "data": {
      "text/plain": [
       "0       not fire   \n",
       "1       not fire   \n",
       "2       not fire   \n",
       "3       not fire   \n",
       "4       not fire   \n",
       "           ...     \n",
       "238         fire   \n",
       "239     not fire   \n",
       "240     not fire   \n",
       "241     not fire   \n",
       "242    not fire    \n",
       "Name: Classes, Length: 243, dtype: object"
      ]
     },
     "execution_count": 22,
     "metadata": {},
     "output_type": "execute_result"
    }
   ],
   "source": [
    "df.Classes "
   ]
  },
  {
   "cell_type": "code",
   "execution_count": 23,
   "id": "13b3b04c",
   "metadata": {},
   "outputs": [
    {
     "data": {
      "text/plain": [
       "fire             131\n",
       "not fire         101\n",
       "fire               4\n",
       "fire               2\n",
       "not fire           2\n",
       "not fire           1\n",
       "not fire           1\n",
       "not fire           1\n",
       "Name: Classes, dtype: int64"
      ]
     },
     "execution_count": 23,
     "metadata": {},
     "output_type": "execute_result"
    }
   ],
   "source": [
    "df[\"Classes\"].value_counts()"
   ]
  },
  {
   "cell_type": "code",
   "execution_count": 24,
   "id": "bcb78353",
   "metadata": {},
   "outputs": [],
   "source": [
    "df.Classes = df.Classes.str.strip()"
   ]
  },
  {
   "cell_type": "code",
   "execution_count": 25,
   "id": "7814127b",
   "metadata": {},
   "outputs": [
    {
     "data": {
      "text/html": [
       "<div>\n",
       "<style scoped>\n",
       "    .dataframe tbody tr th:only-of-type {\n",
       "        vertical-align: middle;\n",
       "    }\n",
       "\n",
       "    .dataframe tbody tr th {\n",
       "        vertical-align: top;\n",
       "    }\n",
       "\n",
       "    .dataframe thead th {\n",
       "        text-align: right;\n",
       "    }\n",
       "</style>\n",
       "<table border=\"1\" class=\"dataframe\">\n",
       "  <thead>\n",
       "    <tr style=\"text-align: right;\">\n",
       "      <th></th>\n",
       "      <th>day</th>\n",
       "      <th>month</th>\n",
       "      <th>year</th>\n",
       "      <th>Temperature</th>\n",
       "      <th>RH</th>\n",
       "      <th>Ws</th>\n",
       "      <th>Rain</th>\n",
       "      <th>FFMC</th>\n",
       "      <th>DMC</th>\n",
       "      <th>DC</th>\n",
       "      <th>ISI</th>\n",
       "      <th>BUI</th>\n",
       "      <th>FWI</th>\n",
       "      <th>Region</th>\n",
       "    </tr>\n",
       "  </thead>\n",
       "  <tbody>\n",
       "    <tr>\n",
       "      <th>day</th>\n",
       "      <td>1.000000</td>\n",
       "      <td>-0.000369</td>\n",
       "      <td>NaN</td>\n",
       "      <td>0.097227</td>\n",
       "      <td>-0.076034</td>\n",
       "      <td>0.047812</td>\n",
       "      <td>-0.112523</td>\n",
       "      <td>0.224956</td>\n",
       "      <td>0.491514</td>\n",
       "      <td>0.527952</td>\n",
       "      <td>0.180543</td>\n",
       "      <td>0.517117</td>\n",
       "      <td>0.350781</td>\n",
       "      <td>0.000821</td>\n",
       "    </tr>\n",
       "    <tr>\n",
       "      <th>month</th>\n",
       "      <td>-0.000369</td>\n",
       "      <td>1.000000</td>\n",
       "      <td>NaN</td>\n",
       "      <td>-0.056781</td>\n",
       "      <td>-0.041252</td>\n",
       "      <td>-0.039880</td>\n",
       "      <td>0.034822</td>\n",
       "      <td>0.017030</td>\n",
       "      <td>0.067943</td>\n",
       "      <td>0.126511</td>\n",
       "      <td>0.065608</td>\n",
       "      <td>0.085073</td>\n",
       "      <td>0.082639</td>\n",
       "      <td>0.001857</td>\n",
       "    </tr>\n",
       "    <tr>\n",
       "      <th>year</th>\n",
       "      <td>NaN</td>\n",
       "      <td>NaN</td>\n",
       "      <td>NaN</td>\n",
       "      <td>NaN</td>\n",
       "      <td>NaN</td>\n",
       "      <td>NaN</td>\n",
       "      <td>NaN</td>\n",
       "      <td>NaN</td>\n",
       "      <td>NaN</td>\n",
       "      <td>NaN</td>\n",
       "      <td>NaN</td>\n",
       "      <td>NaN</td>\n",
       "      <td>NaN</td>\n",
       "      <td>NaN</td>\n",
       "    </tr>\n",
       "    <tr>\n",
       "      <th>Temperature</th>\n",
       "      <td>0.097227</td>\n",
       "      <td>-0.056781</td>\n",
       "      <td>NaN</td>\n",
       "      <td>1.000000</td>\n",
       "      <td>-0.651400</td>\n",
       "      <td>-0.284510</td>\n",
       "      <td>-0.326492</td>\n",
       "      <td>0.676568</td>\n",
       "      <td>0.485687</td>\n",
       "      <td>0.376284</td>\n",
       "      <td>0.603871</td>\n",
       "      <td>0.459789</td>\n",
       "      <td>0.566670</td>\n",
       "      <td>0.269555</td>\n",
       "    </tr>\n",
       "    <tr>\n",
       "      <th>RH</th>\n",
       "      <td>-0.076034</td>\n",
       "      <td>-0.041252</td>\n",
       "      <td>NaN</td>\n",
       "      <td>-0.651400</td>\n",
       "      <td>1.000000</td>\n",
       "      <td>0.244048</td>\n",
       "      <td>0.222356</td>\n",
       "      <td>-0.644873</td>\n",
       "      <td>-0.408519</td>\n",
       "      <td>-0.226941</td>\n",
       "      <td>-0.686667</td>\n",
       "      <td>-0.353841</td>\n",
       "      <td>-0.580957</td>\n",
       "      <td>-0.402682</td>\n",
       "    </tr>\n",
       "    <tr>\n",
       "      <th>Ws</th>\n",
       "      <td>0.047812</td>\n",
       "      <td>-0.039880</td>\n",
       "      <td>NaN</td>\n",
       "      <td>-0.284510</td>\n",
       "      <td>0.244048</td>\n",
       "      <td>1.000000</td>\n",
       "      <td>0.171506</td>\n",
       "      <td>-0.166548</td>\n",
       "      <td>-0.000721</td>\n",
       "      <td>0.079135</td>\n",
       "      <td>0.008532</td>\n",
       "      <td>0.031438</td>\n",
       "      <td>0.032368</td>\n",
       "      <td>-0.181160</td>\n",
       "    </tr>\n",
       "    <tr>\n",
       "      <th>Rain</th>\n",
       "      <td>-0.112523</td>\n",
       "      <td>0.034822</td>\n",
       "      <td>NaN</td>\n",
       "      <td>-0.326492</td>\n",
       "      <td>0.222356</td>\n",
       "      <td>0.171506</td>\n",
       "      <td>1.000000</td>\n",
       "      <td>-0.543906</td>\n",
       "      <td>-0.288773</td>\n",
       "      <td>-0.298023</td>\n",
       "      <td>-0.347484</td>\n",
       "      <td>-0.299852</td>\n",
       "      <td>-0.324422</td>\n",
       "      <td>-0.040013</td>\n",
       "    </tr>\n",
       "    <tr>\n",
       "      <th>FFMC</th>\n",
       "      <td>0.224956</td>\n",
       "      <td>0.017030</td>\n",
       "      <td>NaN</td>\n",
       "      <td>0.676568</td>\n",
       "      <td>-0.644873</td>\n",
       "      <td>-0.166548</td>\n",
       "      <td>-0.543906</td>\n",
       "      <td>1.000000</td>\n",
       "      <td>0.603608</td>\n",
       "      <td>0.507397</td>\n",
       "      <td>0.740007</td>\n",
       "      <td>0.592011</td>\n",
       "      <td>0.691132</td>\n",
       "      <td>0.222241</td>\n",
       "    </tr>\n",
       "    <tr>\n",
       "      <th>DMC</th>\n",
       "      <td>0.491514</td>\n",
       "      <td>0.067943</td>\n",
       "      <td>NaN</td>\n",
       "      <td>0.485687</td>\n",
       "      <td>-0.408519</td>\n",
       "      <td>-0.000721</td>\n",
       "      <td>-0.288773</td>\n",
       "      <td>0.603608</td>\n",
       "      <td>1.000000</td>\n",
       "      <td>0.875925</td>\n",
       "      <td>0.680454</td>\n",
       "      <td>0.982248</td>\n",
       "      <td>0.875864</td>\n",
       "      <td>0.192089</td>\n",
       "    </tr>\n",
       "    <tr>\n",
       "      <th>DC</th>\n",
       "      <td>0.527952</td>\n",
       "      <td>0.126511</td>\n",
       "      <td>NaN</td>\n",
       "      <td>0.376284</td>\n",
       "      <td>-0.226941</td>\n",
       "      <td>0.079135</td>\n",
       "      <td>-0.298023</td>\n",
       "      <td>0.507397</td>\n",
       "      <td>0.875925</td>\n",
       "      <td>1.000000</td>\n",
       "      <td>0.508643</td>\n",
       "      <td>0.941988</td>\n",
       "      <td>0.739521</td>\n",
       "      <td>-0.078734</td>\n",
       "    </tr>\n",
       "    <tr>\n",
       "      <th>ISI</th>\n",
       "      <td>0.180543</td>\n",
       "      <td>0.065608</td>\n",
       "      <td>NaN</td>\n",
       "      <td>0.603871</td>\n",
       "      <td>-0.686667</td>\n",
       "      <td>0.008532</td>\n",
       "      <td>-0.347484</td>\n",
       "      <td>0.740007</td>\n",
       "      <td>0.680454</td>\n",
       "      <td>0.508643</td>\n",
       "      <td>1.000000</td>\n",
       "      <td>0.644093</td>\n",
       "      <td>0.922895</td>\n",
       "      <td>0.263197</td>\n",
       "    </tr>\n",
       "    <tr>\n",
       "      <th>BUI</th>\n",
       "      <td>0.517117</td>\n",
       "      <td>0.085073</td>\n",
       "      <td>NaN</td>\n",
       "      <td>0.459789</td>\n",
       "      <td>-0.353841</td>\n",
       "      <td>0.031438</td>\n",
       "      <td>-0.299852</td>\n",
       "      <td>0.592011</td>\n",
       "      <td>0.982248</td>\n",
       "      <td>0.941988</td>\n",
       "      <td>0.644093</td>\n",
       "      <td>1.000000</td>\n",
       "      <td>0.857973</td>\n",
       "      <td>0.089408</td>\n",
       "    </tr>\n",
       "    <tr>\n",
       "      <th>FWI</th>\n",
       "      <td>0.350781</td>\n",
       "      <td>0.082639</td>\n",
       "      <td>NaN</td>\n",
       "      <td>0.566670</td>\n",
       "      <td>-0.580957</td>\n",
       "      <td>0.032368</td>\n",
       "      <td>-0.324422</td>\n",
       "      <td>0.691132</td>\n",
       "      <td>0.875864</td>\n",
       "      <td>0.739521</td>\n",
       "      <td>0.922895</td>\n",
       "      <td>0.857973</td>\n",
       "      <td>1.000000</td>\n",
       "      <td>0.197102</td>\n",
       "    </tr>\n",
       "    <tr>\n",
       "      <th>Region</th>\n",
       "      <td>0.000821</td>\n",
       "      <td>0.001857</td>\n",
       "      <td>NaN</td>\n",
       "      <td>0.269555</td>\n",
       "      <td>-0.402682</td>\n",
       "      <td>-0.181160</td>\n",
       "      <td>-0.040013</td>\n",
       "      <td>0.222241</td>\n",
       "      <td>0.192089</td>\n",
       "      <td>-0.078734</td>\n",
       "      <td>0.263197</td>\n",
       "      <td>0.089408</td>\n",
       "      <td>0.197102</td>\n",
       "      <td>1.000000</td>\n",
       "    </tr>\n",
       "  </tbody>\n",
       "</table>\n",
       "</div>"
      ],
      "text/plain": [
       "                  day     month  year  Temperature        RH        Ws  \\\n",
       "day          1.000000 -0.000369   NaN     0.097227 -0.076034  0.047812   \n",
       "month       -0.000369  1.000000   NaN    -0.056781 -0.041252 -0.039880   \n",
       "year              NaN       NaN   NaN          NaN       NaN       NaN   \n",
       "Temperature  0.097227 -0.056781   NaN     1.000000 -0.651400 -0.284510   \n",
       "RH          -0.076034 -0.041252   NaN    -0.651400  1.000000  0.244048   \n",
       "Ws           0.047812 -0.039880   NaN    -0.284510  0.244048  1.000000   \n",
       "Rain        -0.112523  0.034822   NaN    -0.326492  0.222356  0.171506   \n",
       "FFMC         0.224956  0.017030   NaN     0.676568 -0.644873 -0.166548   \n",
       "DMC          0.491514  0.067943   NaN     0.485687 -0.408519 -0.000721   \n",
       "DC           0.527952  0.126511   NaN     0.376284 -0.226941  0.079135   \n",
       "ISI          0.180543  0.065608   NaN     0.603871 -0.686667  0.008532   \n",
       "BUI          0.517117  0.085073   NaN     0.459789 -0.353841  0.031438   \n",
       "FWI          0.350781  0.082639   NaN     0.566670 -0.580957  0.032368   \n",
       "Region       0.000821  0.001857   NaN     0.269555 -0.402682 -0.181160   \n",
       "\n",
       "                 Rain      FFMC       DMC        DC       ISI       BUI  \\\n",
       "day         -0.112523  0.224956  0.491514  0.527952  0.180543  0.517117   \n",
       "month        0.034822  0.017030  0.067943  0.126511  0.065608  0.085073   \n",
       "year              NaN       NaN       NaN       NaN       NaN       NaN   \n",
       "Temperature -0.326492  0.676568  0.485687  0.376284  0.603871  0.459789   \n",
       "RH           0.222356 -0.644873 -0.408519 -0.226941 -0.686667 -0.353841   \n",
       "Ws           0.171506 -0.166548 -0.000721  0.079135  0.008532  0.031438   \n",
       "Rain         1.000000 -0.543906 -0.288773 -0.298023 -0.347484 -0.299852   \n",
       "FFMC        -0.543906  1.000000  0.603608  0.507397  0.740007  0.592011   \n",
       "DMC         -0.288773  0.603608  1.000000  0.875925  0.680454  0.982248   \n",
       "DC          -0.298023  0.507397  0.875925  1.000000  0.508643  0.941988   \n",
       "ISI         -0.347484  0.740007  0.680454  0.508643  1.000000  0.644093   \n",
       "BUI         -0.299852  0.592011  0.982248  0.941988  0.644093  1.000000   \n",
       "FWI         -0.324422  0.691132  0.875864  0.739521  0.922895  0.857973   \n",
       "Region      -0.040013  0.222241  0.192089 -0.078734  0.263197  0.089408   \n",
       "\n",
       "                  FWI    Region  \n",
       "day          0.350781  0.000821  \n",
       "month        0.082639  0.001857  \n",
       "year              NaN       NaN  \n",
       "Temperature  0.566670  0.269555  \n",
       "RH          -0.580957 -0.402682  \n",
       "Ws           0.032368 -0.181160  \n",
       "Rain        -0.324422 -0.040013  \n",
       "FFMC         0.691132  0.222241  \n",
       "DMC          0.875864  0.192089  \n",
       "DC           0.739521 -0.078734  \n",
       "ISI          0.922895  0.263197  \n",
       "BUI          0.857973  0.089408  \n",
       "FWI          1.000000  0.197102  \n",
       "Region       0.197102  1.000000  "
      ]
     },
     "execution_count": 25,
     "metadata": {},
     "output_type": "execute_result"
    }
   ],
   "source": [
    "df.corr()"
   ]
  },
  {
   "cell_type": "code",
   "execution_count": 26,
   "id": "1c396f4d",
   "metadata": {},
   "outputs": [
    {
     "data": {
      "text/plain": [
       "<AxesSubplot:>"
      ]
     },
     "execution_count": 26,
     "metadata": {},
     "output_type": "execute_result"
    },
    {
     "data": {
      "image/png": "[encoded data removed]",
      "text/plain": [
       "<Figure size 1440x1080 with 2 Axes>"
      ]
     },
     "metadata": {
      "needs_background": "light"
     },
     "output_type": "display_data"
    }
   ],
   "source": [
    "plt.figure(figsize=(20,15))\n",
    "sns.heatmap(df.corr(),annot= True,linewidths=1, linecolor=\"white\", cbar=True, \n",
    "            cmap = \"Paired\",xticklabels=\"auto\", yticklabels=\"auto\")"
   ]
  },
  {
   "cell_type": "markdown",
   "id": "fd0206b0",
   "metadata": {},
   "source": [
    "### Encoding"
   ]
  },
  {
   "cell_type": "code",
   "execution_count": 27,
   "id": "3b534069",
   "metadata": {},
   "outputs": [
    {
     "data": {
      "text/html": [
       "<div>\n",
       "<style scoped>\n",
       "    .dataframe tbody tr th:only-of-type {\n",
       "        vertical-align: middle;\n",
       "    }\n",
       "\n",
       "    .dataframe tbody tr th {\n",
       "        vertical-align: top;\n",
       "    }\n",
       "\n",
       "    .dataframe thead th {\n",
       "        text-align: right;\n",
       "    }\n",
       "</style>\n",
       "<table border=\"1\" class=\"dataframe\">\n",
       "  <thead>\n",
       "    <tr style=\"text-align: right;\">\n",
       "      <th></th>\n",
       "      <th>day</th>\n",
       "      <th>month</th>\n",
       "      <th>year</th>\n",
       "      <th>Temperature</th>\n",
       "      <th>RH</th>\n",
       "      <th>Ws</th>\n",
       "      <th>Rain</th>\n",
       "      <th>FFMC</th>\n",
       "      <th>DMC</th>\n",
       "      <th>DC</th>\n",
       "      <th>ISI</th>\n",
       "      <th>BUI</th>\n",
       "      <th>FWI</th>\n",
       "      <th>Classes</th>\n",
       "      <th>Region</th>\n",
       "    </tr>\n",
       "  </thead>\n",
       "  <tbody>\n",
       "    <tr>\n",
       "      <th>0</th>\n",
       "      <td>1</td>\n",
       "      <td>6</td>\n",
       "      <td>2012</td>\n",
       "      <td>29</td>\n",
       "      <td>57</td>\n",
       "      <td>18</td>\n",
       "      <td>0.0</td>\n",
       "      <td>65.7</td>\n",
       "      <td>3.4</td>\n",
       "      <td>7.6</td>\n",
       "      <td>1.3</td>\n",
       "      <td>3.4</td>\n",
       "      <td>0.5</td>\n",
       "      <td>0</td>\n",
       "      <td>0</td>\n",
       "    </tr>\n",
       "    <tr>\n",
       "      <th>1</th>\n",
       "      <td>2</td>\n",
       "      <td>6</td>\n",
       "      <td>2012</td>\n",
       "      <td>29</td>\n",
       "      <td>61</td>\n",
       "      <td>13</td>\n",
       "      <td>1.3</td>\n",
       "      <td>64.4</td>\n",
       "      <td>4.1</td>\n",
       "      <td>7.6</td>\n",
       "      <td>1.0</td>\n",
       "      <td>3.9</td>\n",
       "      <td>0.4</td>\n",
       "      <td>0</td>\n",
       "      <td>0</td>\n",
       "    </tr>\n",
       "    <tr>\n",
       "      <th>2</th>\n",
       "      <td>3</td>\n",
       "      <td>6</td>\n",
       "      <td>2012</td>\n",
       "      <td>26</td>\n",
       "      <td>82</td>\n",
       "      <td>22</td>\n",
       "      <td>13.1</td>\n",
       "      <td>47.1</td>\n",
       "      <td>2.5</td>\n",
       "      <td>7.1</td>\n",
       "      <td>0.3</td>\n",
       "      <td>2.7</td>\n",
       "      <td>0.1</td>\n",
       "      <td>0</td>\n",
       "      <td>0</td>\n",
       "    </tr>\n",
       "    <tr>\n",
       "      <th>3</th>\n",
       "      <td>4</td>\n",
       "      <td>6</td>\n",
       "      <td>2012</td>\n",
       "      <td>25</td>\n",
       "      <td>89</td>\n",
       "      <td>13</td>\n",
       "      <td>2.5</td>\n",
       "      <td>28.6</td>\n",
       "      <td>1.3</td>\n",
       "      <td>6.9</td>\n",
       "      <td>0.0</td>\n",
       "      <td>1.7</td>\n",
       "      <td>0.0</td>\n",
       "      <td>0</td>\n",
       "      <td>0</td>\n",
       "    </tr>\n",
       "    <tr>\n",
       "      <th>4</th>\n",
       "      <td>5</td>\n",
       "      <td>6</td>\n",
       "      <td>2012</td>\n",
       "      <td>27</td>\n",
       "      <td>77</td>\n",
       "      <td>16</td>\n",
       "      <td>0.0</td>\n",
       "      <td>64.8</td>\n",
       "      <td>3.0</td>\n",
       "      <td>14.2</td>\n",
       "      <td>1.2</td>\n",
       "      <td>3.9</td>\n",
       "      <td>0.5</td>\n",
       "      <td>0</td>\n",
       "      <td>0</td>\n",
       "    </tr>\n",
       "  </tbody>\n",
       "</table>\n",
       "</div>"
      ],
      "text/plain": [
       "   day  month  year  Temperature  RH  Ws  Rain  FFMC  DMC    DC  ISI  BUI  \\\n",
       "0    1      6  2012           29  57  18   0.0  65.7  3.4   7.6  1.3  3.4   \n",
       "1    2      6  2012           29  61  13   1.3  64.4  4.1   7.6  1.0  3.9   \n",
       "2    3      6  2012           26  82  22  13.1  47.1  2.5   7.1  0.3  2.7   \n",
       "3    4      6  2012           25  89  13   2.5  28.6  1.3   6.9  0.0  1.7   \n",
       "4    5      6  2012           27  77  16   0.0  64.8  3.0  14.2  1.2  3.9   \n",
       "\n",
       "   FWI  Classes  Region  \n",
       "0  0.5        0       0  \n",
       "1  0.4        0       0  \n",
       "2  0.1        0       0  \n",
       "3  0.0        0       0  \n",
       "4  0.5        0       0  "
      ]
     },
     "execution_count": 27,
     "metadata": {},
     "output_type": "execute_result"
    }
   ],
   "source": [
    "##Fire as 1 and not Fire as 0\n",
    "df['Classes']= np.where(df['Classes']== 'not fire',0,1)\n",
    "df.head()"
   ]
  },
  {
   "cell_type": "code",
   "execution_count": 28,
   "id": "155750bb",
   "metadata": {},
   "outputs": [
    {
     "data": {
      "text/plain": [
       "1    137\n",
       "0    106\n",
       "Name: Classes, dtype: int64"
      ]
     },
     "execution_count": 28,
     "metadata": {},
     "output_type": "execute_result"
    }
   ],
   "source": [
    "# Check counts\n",
    "df.Classes.value_counts()"
   ]
  },
  {
   "cell_type": "code",
   "execution_count": 29,
   "id": "0b281bd8",
   "metadata": {},
   "outputs": [
    {
     "data": {
      "text/plain": [
       "<AxesSubplot:>"
      ]
     },
     "execution_count": 29,
     "metadata": {},
     "output_type": "execute_result"
    },
    {
     "data": {
      "image/png": "[encoded data removed]",
      "text/plain": [
       "<Figure size 1440x1080 with 2 Axes>"
      ]
     },
     "metadata": {
      "needs_background": "light"
     },
     "output_type": "display_data"
    }
   ],
   "source": [
    "plt.figure(figsize=(20,15))\n",
    "sns.heatmap(df.corr(),annot= True,linewidths=1, linecolor=\"white\", cbar=True, cmap = \"Paired\",xticklabels=\"auto\", yticklabels=\"auto\")"
   ]
  },
  {
   "cell_type": "markdown",
   "id": "26ffaae6",
   "metadata": {},
   "source": [
    "###  density plot for all features"
   ]
  },
  {
   "cell_type": "code",
   "execution_count": 30,
   "id": "c1ad9491",
   "metadata": {},
   "outputs": [
    {
     "data": {
      "image/png": "[encoded data removed]",
      "text/plain": [
       "<Figure size 1440x1080 with 16 Axes>"
      ]
     },
     "metadata": {
      "needs_background": "light"
     },
     "output_type": "display_data"
    }
   ],
   "source": [
    "#plt.style.use('seaborn')\n",
    "df.hist(bins=50, figsize=(20,15), ec = 'b')\n",
    "plt.show()"
   ]
  },
  {
   "cell_type": "markdown",
   "id": "0ea4742c",
   "metadata": {},
   "source": [
    "lineplot"
   ]
  },
  {
   "cell_type": "code",
   "execution_count": 31,
   "id": "0db6c82e",
   "metadata": {
    "scrolled": true
   },
   "outputs": [
    {
     "data": {
      "text/plain": [
       "<AxesSubplot:xlabel='Temperature', ylabel='Classes'>"
      ]
     },
     "execution_count": 31,
     "metadata": {},
     "output_type": "execute_result"
    },
    {
     "data": {
      "image/png": "[encoded data removed]",
      "text/plain": [
       "<Figure size 432x288 with 1 Axes>"
      ]
     },
     "metadata": {
      "needs_background": "light"
     },
     "output_type": "display_data"
    }
   ],
   "source": [
    "sns.lineplot(x='Temperature',y='Classes',data=df,color='blue')"
   ]
  },
  {
   "cell_type": "code",
   "execution_count": 32,
   "id": "4b4065e2",
   "metadata": {},
   "outputs": [
    {
     "data": {
      "text/plain": [
       "1    56.378601\n",
       "0    43.621399\n",
       "Name: Classes, dtype: float64"
      ]
     },
     "execution_count": 32,
     "metadata": {},
     "output_type": "execute_result"
    }
   ],
   "source": [
    "# Percentage for PieChart\n",
    "percentage = df.Classes.value_counts(normalize=True)*100\n",
    "percentage"
   ]
  },
  {
   "cell_type": "code",
   "execution_count": 33,
   "id": "f31cdb19",
   "metadata": {
    "scrolled": true
   },
   "outputs": [
    {
     "data": {
      "image/png": "[encoded data removed]",
      "text/plain": [
       "<Figure size 864x504 with 1 Axes>"
      ]
     },
     "metadata": {},
     "output_type": "display_data"
    }
   ],
   "source": [
    "#plotting PieChart\n",
    "classeslabels = [\"FIRE\", \"NOT FIRE\"]\n",
    "plt.figure(figsize =(12, 7))\n",
    "plt.pie(percentage,labels = classeslabels,autopct='%1.1f%%')  \n",
    "plt.title (\"Pie Chart of Classes\", fontsize = 15)\n",
    "plt.show()"
   ]
  },
  {
   "cell_type": "code",
   "execution_count": 34,
   "id": "2736c655",
   "metadata": {},
   "outputs": [],
   "source": [
    "X = df.iloc[:, 0:13]\n",
    "y = df['FWI']"
   ]
  },
  {
   "cell_type": "code",
   "execution_count": 35,
   "id": "0d7975c9",
   "metadata": {},
   "outputs": [
    {
     "data": {
      "text/html": [
       "<div>\n",
       "<style scoped>\n",
       "    .dataframe tbody tr th:only-of-type {\n",
       "        vertical-align: middle;\n",
       "    }\n",
       "\n",
       "    .dataframe tbody tr th {\n",
       "        vertical-align: top;\n",
       "    }\n",
       "\n",
       "    .dataframe thead th {\n",
       "        text-align: right;\n",
       "    }\n",
       "</style>\n",
       "<table border=\"1\" class=\"dataframe\">\n",
       "  <thead>\n",
       "    <tr style=\"text-align: right;\">\n",
       "      <th></th>\n",
       "      <th>day</th>\n",
       "      <th>month</th>\n",
       "      <th>year</th>\n",
       "      <th>Temperature</th>\n",
       "      <th>RH</th>\n",
       "      <th>Ws</th>\n",
       "      <th>Rain</th>\n",
       "      <th>FFMC</th>\n",
       "      <th>DMC</th>\n",
       "      <th>DC</th>\n",
       "      <th>ISI</th>\n",
       "      <th>BUI</th>\n",
       "      <th>FWI</th>\n",
       "    </tr>\n",
       "  </thead>\n",
       "  <tbody>\n",
       "    <tr>\n",
       "      <th>0</th>\n",
       "      <td>1</td>\n",
       "      <td>6</td>\n",
       "      <td>2012</td>\n",
       "      <td>29</td>\n",
       "      <td>57</td>\n",
       "      <td>18</td>\n",
       "      <td>0.0</td>\n",
       "      <td>65.7</td>\n",
       "      <td>3.4</td>\n",
       "      <td>7.6</td>\n",
       "      <td>1.3</td>\n",
       "      <td>3.4</td>\n",
       "      <td>0.5</td>\n",
       "    </tr>\n",
       "    <tr>\n",
       "      <th>1</th>\n",
       "      <td>2</td>\n",
       "      <td>6</td>\n",
       "      <td>2012</td>\n",
       "      <td>29</td>\n",
       "      <td>61</td>\n",
       "      <td>13</td>\n",
       "      <td>1.3</td>\n",
       "      <td>64.4</td>\n",
       "      <td>4.1</td>\n",
       "      <td>7.6</td>\n",
       "      <td>1.0</td>\n",
       "      <td>3.9</td>\n",
       "      <td>0.4</td>\n",
       "    </tr>\n",
       "    <tr>\n",
       "      <th>2</th>\n",
       "      <td>3</td>\n",
       "      <td>6</td>\n",
       "      <td>2012</td>\n",
       "      <td>26</td>\n",
       "      <td>82</td>\n",
       "      <td>22</td>\n",
       "      <td>13.1</td>\n",
       "      <td>47.1</td>\n",
       "      <td>2.5</td>\n",
       "      <td>7.1</td>\n",
       "      <td>0.3</td>\n",
       "      <td>2.7</td>\n",
       "      <td>0.1</td>\n",
       "    </tr>\n",
       "    <tr>\n",
       "      <th>3</th>\n",
       "      <td>4</td>\n",
       "      <td>6</td>\n",
       "      <td>2012</td>\n",
       "      <td>25</td>\n",
       "      <td>89</td>\n",
       "      <td>13</td>\n",
       "      <td>2.5</td>\n",
       "      <td>28.6</td>\n",
       "      <td>1.3</td>\n",
       "      <td>6.9</td>\n",
       "      <td>0.0</td>\n",
       "      <td>1.7</td>\n",
       "      <td>0.0</td>\n",
       "    </tr>\n",
       "    <tr>\n",
       "      <th>4</th>\n",
       "      <td>5</td>\n",
       "      <td>6</td>\n",
       "      <td>2012</td>\n",
       "      <td>27</td>\n",
       "      <td>77</td>\n",
       "      <td>16</td>\n",
       "      <td>0.0</td>\n",
       "      <td>64.8</td>\n",
       "      <td>3.0</td>\n",
       "      <td>14.2</td>\n",
       "      <td>1.2</td>\n",
       "      <td>3.9</td>\n",
       "      <td>0.5</td>\n",
       "    </tr>\n",
       "  </tbody>\n",
       "</table>\n",
       "</div>"
      ],
      "text/plain": [
       "   day  month  year  Temperature  RH  Ws  Rain  FFMC  DMC    DC  ISI  BUI  FWI\n",
       "0    1      6  2012           29  57  18   0.0  65.7  3.4   7.6  1.3  3.4  0.5\n",
       "1    2      6  2012           29  61  13   1.3  64.4  4.1   7.6  1.0  3.9  0.4\n",
       "2    3      6  2012           26  82  22  13.1  47.1  2.5   7.1  0.3  2.7  0.1\n",
       "3    4      6  2012           25  89  13   2.5  28.6  1.3   6.9  0.0  1.7  0.0\n",
       "4    5      6  2012           27  77  16   0.0  64.8  3.0  14.2  1.2  3.9  0.5"
      ]
     },
     "execution_count": 35,
     "metadata": {},
     "output_type": "execute_result"
    }
   ],
   "source": [
    "X.head()"
   ]
  },
  {
   "cell_type": "code",
   "execution_count": 36,
   "id": "f786b1ac",
   "metadata": {},
   "outputs": [
    {
     "data": {
      "text/plain": [
       "0    0.5\n",
       "1    0.4\n",
       "2    0.1\n",
       "3    0.0\n",
       "4    0.5\n",
       "5    2.5\n",
       "6    7.2\n",
       "7    7.1\n",
       "8    0.3\n",
       "9    0.9\n",
       "Name: FWI, dtype: float64"
      ]
     },
     "execution_count": 36,
     "metadata": {},
     "output_type": "execute_result"
    }
   ],
   "source": [
    "y.head(10)"
   ]
  },
  {
   "cell_type": "markdown",
   "id": "036e0331",
   "metadata": {},
   "source": [
    "#Regression Anslysis"
   ]
  },
  {
   "cell_type": "markdown",
   "id": "81b773f7",
   "metadata": {},
   "source": [
    "### Spliting the dataset into train and test"
   ]
  },
  {
   "cell_type": "code",
   "execution_count": 37,
   "id": "b1f88ec3",
   "metadata": {},
   "outputs": [],
   "source": [
    "from sklearn.model_selection import train_test_split"
   ]
  },
  {
   "cell_type": "code",
   "execution_count": 38,
   "id": "b9e485f7",
   "metadata": {},
   "outputs": [],
   "source": [
    "X_train, X_test, y_train, y_test = train_test_split(X,y,test_size=0.25,\n",
    "                                                    random_state=0)\n"
   ]
  },
  {
   "cell_type": "code",
   "execution_count": 39,
   "id": "a68e5ccf",
   "metadata": {},
   "outputs": [
    {
     "data": {
      "text/plain": [
       "(182, 13)"
      ]
     },
     "execution_count": 39,
     "metadata": {},
     "output_type": "execute_result"
    }
   ],
   "source": [
    "X_train.shape"
   ]
  },
  {
   "cell_type": "code",
   "execution_count": 40,
   "id": "bc1288af",
   "metadata": {},
   "outputs": [
    {
     "data": {
      "text/plain": [
       "(182,)"
      ]
     },
     "execution_count": 40,
     "metadata": {},
     "output_type": "execute_result"
    }
   ],
   "source": [
    "y_train.shape"
   ]
  },
  {
   "cell_type": "code",
   "execution_count": 41,
   "id": "baf251f4",
   "metadata": {},
   "outputs": [
    {
     "data": {
      "text/plain": [
       "(61, 13)"
      ]
     },
     "execution_count": 41,
     "metadata": {},
     "output_type": "execute_result"
    }
   ],
   "source": [
    "X_test.shape"
   ]
  },
  {
   "cell_type": "code",
   "execution_count": 42,
   "id": "40d6a959",
   "metadata": {},
   "outputs": [
    {
     "data": {
      "text/plain": [
       "(61,)"
      ]
     },
     "execution_count": 42,
     "metadata": {},
     "output_type": "execute_result"
    }
   ],
   "source": [
    "y_test.shape"
   ]
  },
  {
   "cell_type": "code",
   "execution_count": 43,
   "id": "2c416ef7",
   "metadata": {},
   "outputs": [
    {
     "data": {
      "text/plain": [
       "Index(['day', 'month', 'year', 'Temperature', 'RH', 'Ws', 'Rain', 'FFMC',\n",
       "       'DMC', 'DC', 'ISI', 'BUI', 'FWI'],\n",
       "      dtype='object')"
      ]
     },
     "execution_count": 43,
     "metadata": {},
     "output_type": "execute_result"
    }
   ],
   "source": [
    "X_train.columns"
   ]
  },
  {
   "cell_type": "code",
   "execution_count": 44,
   "id": "488b7712",
   "metadata": {},
   "outputs": [
    {
     "data": {
      "text/html": [
       "<div>\n",
       "<style scoped>\n",
       "    .dataframe tbody tr th:only-of-type {\n",
       "        vertical-align: middle;\n",
       "    }\n",
       "\n",
       "    .dataframe tbody tr th {\n",
       "        vertical-align: top;\n",
       "    }\n",
       "\n",
       "    .dataframe thead th {\n",
       "        text-align: right;\n",
       "    }\n",
       "</style>\n",
       "<table border=\"1\" class=\"dataframe\">\n",
       "  <thead>\n",
       "    <tr style=\"text-align: right;\">\n",
       "      <th></th>\n",
       "      <th>day</th>\n",
       "      <th>month</th>\n",
       "      <th>year</th>\n",
       "      <th>Temperature</th>\n",
       "      <th>RH</th>\n",
       "      <th>Ws</th>\n",
       "      <th>Rain</th>\n",
       "      <th>FFMC</th>\n",
       "      <th>DMC</th>\n",
       "      <th>DC</th>\n",
       "      <th>ISI</th>\n",
       "      <th>BUI</th>\n",
       "      <th>FWI</th>\n",
       "    </tr>\n",
       "  </thead>\n",
       "  <tbody>\n",
       "    <tr>\n",
       "      <th>day</th>\n",
       "      <td>1.000000</td>\n",
       "      <td>-0.012548</td>\n",
       "      <td>NaN</td>\n",
       "      <td>0.064643</td>\n",
       "      <td>-0.026017</td>\n",
       "      <td>0.064744</td>\n",
       "      <td>-0.096895</td>\n",
       "      <td>0.200917</td>\n",
       "      <td>0.475293</td>\n",
       "      <td>0.518656</td>\n",
       "      <td>0.136345</td>\n",
       "      <td>0.505941</td>\n",
       "      <td>0.323557</td>\n",
       "    </tr>\n",
       "    <tr>\n",
       "      <th>month</th>\n",
       "      <td>-0.012548</td>\n",
       "      <td>1.000000</td>\n",
       "      <td>NaN</td>\n",
       "      <td>-0.038849</td>\n",
       "      <td>-0.078540</td>\n",
       "      <td>0.031898</td>\n",
       "      <td>0.047124</td>\n",
       "      <td>0.017551</td>\n",
       "      <td>0.082367</td>\n",
       "      <td>0.121087</td>\n",
       "      <td>0.082006</td>\n",
       "      <td>0.093368</td>\n",
       "      <td>0.097279</td>\n",
       "    </tr>\n",
       "    <tr>\n",
       "      <th>year</th>\n",
       "      <td>NaN</td>\n",
       "      <td>NaN</td>\n",
       "      <td>NaN</td>\n",
       "      <td>NaN</td>\n",
       "      <td>NaN</td>\n",
       "      <td>NaN</td>\n",
       "      <td>NaN</td>\n",
       "      <td>NaN</td>\n",
       "      <td>NaN</td>\n",
       "      <td>NaN</td>\n",
       "      <td>NaN</td>\n",
       "      <td>NaN</td>\n",
       "      <td>NaN</td>\n",
       "    </tr>\n",
       "    <tr>\n",
       "      <th>Temperature</th>\n",
       "      <td>0.064643</td>\n",
       "      <td>-0.038849</td>\n",
       "      <td>NaN</td>\n",
       "      <td>1.000000</td>\n",
       "      <td>-0.657325</td>\n",
       "      <td>-0.357016</td>\n",
       "      <td>-0.365941</td>\n",
       "      <td>0.684556</td>\n",
       "      <td>0.482965</td>\n",
       "      <td>0.349021</td>\n",
       "      <td>0.618172</td>\n",
       "      <td>0.447959</td>\n",
       "      <td>0.575406</td>\n",
       "    </tr>\n",
       "    <tr>\n",
       "      <th>RH</th>\n",
       "      <td>-0.026017</td>\n",
       "      <td>-0.078540</td>\n",
       "      <td>NaN</td>\n",
       "      <td>-0.657325</td>\n",
       "      <td>1.000000</td>\n",
       "      <td>0.262581</td>\n",
       "      <td>0.275592</td>\n",
       "      <td>-0.653649</td>\n",
       "      <td>-0.393893</td>\n",
       "      <td>-0.203883</td>\n",
       "      <td>-0.712353</td>\n",
       "      <td>-0.333027</td>\n",
       "      <td>-0.594299</td>\n",
       "    </tr>\n",
       "    <tr>\n",
       "      <th>Ws</th>\n",
       "      <td>0.064744</td>\n",
       "      <td>0.031898</td>\n",
       "      <td>NaN</td>\n",
       "      <td>-0.357016</td>\n",
       "      <td>0.262581</td>\n",
       "      <td>1.000000</td>\n",
       "      <td>0.204035</td>\n",
       "      <td>-0.226129</td>\n",
       "      <td>-0.010158</td>\n",
       "      <td>0.079699</td>\n",
       "      <td>-0.018845</td>\n",
       "      <td>0.023680</td>\n",
       "      <td>0.013239</td>\n",
       "    </tr>\n",
       "    <tr>\n",
       "      <th>Rain</th>\n",
       "      <td>-0.096895</td>\n",
       "      <td>0.047124</td>\n",
       "      <td>NaN</td>\n",
       "      <td>-0.365941</td>\n",
       "      <td>0.275592</td>\n",
       "      <td>0.204035</td>\n",
       "      <td>1.000000</td>\n",
       "      <td>-0.589465</td>\n",
       "      <td>-0.300364</td>\n",
       "      <td>-0.302591</td>\n",
       "      <td>-0.347660</td>\n",
       "      <td>-0.308258</td>\n",
       "      <td>-0.326426</td>\n",
       "    </tr>\n",
       "    <tr>\n",
       "      <th>FFMC</th>\n",
       "      <td>0.200917</td>\n",
       "      <td>0.017551</td>\n",
       "      <td>NaN</td>\n",
       "      <td>0.684556</td>\n",
       "      <td>-0.653649</td>\n",
       "      <td>-0.226129</td>\n",
       "      <td>-0.589465</td>\n",
       "      <td>1.000000</td>\n",
       "      <td>0.621958</td>\n",
       "      <td>0.528275</td>\n",
       "      <td>0.742079</td>\n",
       "      <td>0.606527</td>\n",
       "      <td>0.704563</td>\n",
       "    </tr>\n",
       "    <tr>\n",
       "      <th>DMC</th>\n",
       "      <td>0.475293</td>\n",
       "      <td>0.082367</td>\n",
       "      <td>NaN</td>\n",
       "      <td>0.482965</td>\n",
       "      <td>-0.393893</td>\n",
       "      <td>-0.010158</td>\n",
       "      <td>-0.300364</td>\n",
       "      <td>0.621958</td>\n",
       "      <td>1.000000</td>\n",
       "      <td>0.884417</td>\n",
       "      <td>0.680918</td>\n",
       "      <td>0.984222</td>\n",
       "      <td>0.882314</td>\n",
       "    </tr>\n",
       "    <tr>\n",
       "      <th>DC</th>\n",
       "      <td>0.518656</td>\n",
       "      <td>0.121087</td>\n",
       "      <td>NaN</td>\n",
       "      <td>0.349021</td>\n",
       "      <td>-0.203883</td>\n",
       "      <td>0.079699</td>\n",
       "      <td>-0.302591</td>\n",
       "      <td>0.528275</td>\n",
       "      <td>0.884417</td>\n",
       "      <td>1.000000</td>\n",
       "      <td>0.501412</td>\n",
       "      <td>0.951157</td>\n",
       "      <td>0.746551</td>\n",
       "    </tr>\n",
       "    <tr>\n",
       "      <th>ISI</th>\n",
       "      <td>0.136345</td>\n",
       "      <td>0.082006</td>\n",
       "      <td>NaN</td>\n",
       "      <td>0.618172</td>\n",
       "      <td>-0.712353</td>\n",
       "      <td>-0.018845</td>\n",
       "      <td>-0.347660</td>\n",
       "      <td>0.742079</td>\n",
       "      <td>0.680918</td>\n",
       "      <td>0.501412</td>\n",
       "      <td>1.000000</td>\n",
       "      <td>0.632285</td>\n",
       "      <td>0.918573</td>\n",
       "    </tr>\n",
       "    <tr>\n",
       "      <th>BUI</th>\n",
       "      <td>0.505941</td>\n",
       "      <td>0.093368</td>\n",
       "      <td>NaN</td>\n",
       "      <td>0.447959</td>\n",
       "      <td>-0.333027</td>\n",
       "      <td>0.023680</td>\n",
       "      <td>-0.308258</td>\n",
       "      <td>0.606527</td>\n",
       "      <td>0.984222</td>\n",
       "      <td>0.951157</td>\n",
       "      <td>0.632285</td>\n",
       "      <td>1.000000</td>\n",
       "      <td>0.855633</td>\n",
       "    </tr>\n",
       "    <tr>\n",
       "      <th>FWI</th>\n",
       "      <td>0.323557</td>\n",
       "      <td>0.097279</td>\n",
       "      <td>NaN</td>\n",
       "      <td>0.575406</td>\n",
       "      <td>-0.594299</td>\n",
       "      <td>0.013239</td>\n",
       "      <td>-0.326426</td>\n",
       "      <td>0.704563</td>\n",
       "      <td>0.882314</td>\n",
       "      <td>0.746551</td>\n",
       "      <td>0.918573</td>\n",
       "      <td>0.855633</td>\n",
       "      <td>1.000000</td>\n",
       "    </tr>\n",
       "  </tbody>\n",
       "</table>\n",
       "</div>"
      ],
      "text/plain": [
       "                  day     month  year  Temperature        RH        Ws  \\\n",
       "day          1.000000 -0.012548   NaN     0.064643 -0.026017  0.064744   \n",
       "month       -0.012548  1.000000   NaN    -0.038849 -0.078540  0.031898   \n",
       "year              NaN       NaN   NaN          NaN       NaN       NaN   \n",
       "Temperature  0.064643 -0.038849   NaN     1.000000 -0.657325 -0.357016   \n",
       "RH          -0.026017 -0.078540   NaN    -0.657325  1.000000  0.262581   \n",
       "Ws           0.064744  0.031898   NaN    -0.357016  0.262581  1.000000   \n",
       "Rain        -0.096895  0.047124   NaN    -0.365941  0.275592  0.204035   \n",
       "FFMC         0.200917  0.017551   NaN     0.684556 -0.653649 -0.226129   \n",
       "DMC          0.475293  0.082367   NaN     0.482965 -0.393893 -0.010158   \n",
       "DC           0.518656  0.121087   NaN     0.349021 -0.203883  0.079699   \n",
       "ISI          0.136345  0.082006   NaN     0.618172 -0.712353 -0.018845   \n",
       "BUI          0.505941  0.093368   NaN     0.447959 -0.333027  0.023680   \n",
       "FWI          0.323557  0.097279   NaN     0.575406 -0.594299  0.013239   \n",
       "\n",
       "                 Rain      FFMC       DMC        DC       ISI       BUI  \\\n",
       "day         -0.096895  0.200917  0.475293  0.518656  0.136345  0.505941   \n",
       "month        0.047124  0.017551  0.082367  0.121087  0.082006  0.093368   \n",
       "year              NaN       NaN       NaN       NaN       NaN       NaN   \n",
       "Temperature -0.365941  0.684556  0.482965  0.349021  0.618172  0.447959   \n",
       "RH           0.275592 -0.653649 -0.393893 -0.203883 -0.712353 -0.333027   \n",
       "Ws           0.204035 -0.226129 -0.010158  0.079699 -0.018845  0.023680   \n",
       "Rain         1.000000 -0.589465 -0.300364 -0.302591 -0.347660 -0.308258   \n",
       "FFMC        -0.589465  1.000000  0.621958  0.528275  0.742079  0.606527   \n",
       "DMC         -0.300364  0.621958  1.000000  0.884417  0.680918  0.984222   \n",
       "DC          -0.302591  0.528275  0.884417  1.000000  0.501412  0.951157   \n",
       "ISI         -0.347660  0.742079  0.680918  0.501412  1.000000  0.632285   \n",
       "BUI         -0.308258  0.606527  0.984222  0.951157  0.632285  1.000000   \n",
       "FWI         -0.326426  0.704563  0.882314  0.746551  0.918573  0.855633   \n",
       "\n",
       "                  FWI  \n",
       "day          0.323557  \n",
       "month        0.097279  \n",
       "year              NaN  \n",
       "Temperature  0.575406  \n",
       "RH          -0.594299  \n",
       "Ws           0.013239  \n",
       "Rain        -0.326426  \n",
       "FFMC         0.704563  \n",
       "DMC          0.882314  \n",
       "DC           0.746551  \n",
       "ISI          0.918573  \n",
       "BUI          0.855633  \n",
       "FWI          1.000000  "
      ]
     },
     "execution_count": 44,
     "metadata": {},
     "output_type": "execute_result"
    }
   ],
   "source": [
    "X_train.corr()"
   ]
  },
  {
   "cell_type": "code",
   "execution_count": 45,
   "id": "31f301d5",
   "metadata": {},
   "outputs": [
    {
     "data": {
      "image/png": "[encoded data removed]",
      "text/plain": [
       "<Figure size 864x720 with 2 Axes>"
      ]
     },
     "metadata": {
      "needs_background": "light"
     },
     "output_type": "display_data"
    }
   ],
   "source": [
    "#Using Pearson Correlation\n",
    "plt.figure(figsize=(12,10))\n",
    "cor = X_train.corr()\n",
    "sns.heatmap(cor, annot=True, cmap=plt.cm.CMRmap_r)\n",
    "plt.show()"
   ]
  },
  {
   "cell_type": "raw",
   "id": "be6e28d6",
   "metadata": {},
   "source": [
    "Check the correlation for independent features and the features having correlation more than 0.8 will remove from the analysis."
   ]
  },
  {
   "cell_type": "code",
   "execution_count": 46,
   "id": "79f36f87",
   "metadata": {},
   "outputs": [],
   "source": [
    "def correlation(dataset, threshold):\n",
    "    col_corr = set()\n",
    "    corr_matrix = dataset.corr()\n",
    "    for i in range(len(corr_matrix.columns)):\n",
    "        for j in range(i):\n",
    "            if abs(corr_matrix.iloc[i, j]) > threshold: \n",
    "                colname = corr_matrix.columns[i]\n",
    "                col_corr.add(colname)\n",
    "    return col_corr"
   ]
  },
  {
   "cell_type": "code",
   "execution_count": 47,
   "id": "849c3400",
   "metadata": {},
   "outputs": [
    {
     "data": {
      "text/plain": [
       "{'BUI', 'DC', 'FWI'}"
      ]
     },
     "execution_count": 47,
     "metadata": {},
     "output_type": "execute_result"
    }
   ],
   "source": [
    "corr_features = correlation(X_train, 0.8)\n",
    "corr_features"
   ]
  },
  {
   "cell_type": "code",
   "execution_count": 48,
   "id": "7ec10b6b",
   "metadata": {},
   "outputs": [
    {
     "data": {
      "text/plain": [
       "((182, 10), (61, 10))"
      ]
     },
     "execution_count": 48,
     "metadata": {},
     "output_type": "execute_result"
    }
   ],
   "source": [
    "# drop features which has correlation more than 0.8\n",
    "X_train.drop(corr_features,axis=1, inplace=True)\n",
    "X_test.drop(corr_features,axis=1, inplace=True)\n",
    "X_train.shape, X_test.shape"
   ]
  },
  {
   "cell_type": "code",
   "execution_count": 49,
   "id": "11a501dc",
   "metadata": {},
   "outputs": [],
   "source": [
    "## Standardize or feature scaling the datasets\n",
    "from sklearn.preprocessing import StandardScaler\n",
    "scaler=StandardScaler()"
   ]
  },
  {
   "cell_type": "code",
   "execution_count": 50,
   "id": "38945f7f",
   "metadata": {},
   "outputs": [
    {
     "data": {
      "text/plain": [
       "StandardScaler()"
      ]
     },
     "execution_count": 50,
     "metadata": {},
     "output_type": "execute_result"
    }
   ],
   "source": [
    "scaler"
   ]
  },
  {
   "cell_type": "code",
   "execution_count": 51,
   "id": "48a0b471",
   "metadata": {},
   "outputs": [],
   "source": [
    "X_train_scaled = scaler.fit_transform(X_train)\n",
    "X_test_scaled = scaler.transform(X_test)"
   ]
  },
  {
   "cell_type": "code",
   "execution_count": 52,
   "id": "a440083c",
   "metadata": {},
   "outputs": [
    {
     "data": {
      "text/plain": [
       "array([[ 0.19763619,  1.34865164,  0.        , ...,  0.86103378,\n",
       "         0.82966632,  0.89709937],\n",
       "       [-1.13870263,  1.34865164,  0.        , ..., -0.96914461,\n",
       "        -0.93132657, -0.91779112],\n",
       "       [-1.47278733,  0.44624503,  0.        , ...,  1.07841129,\n",
       "         0.14874907,  2.75736213],\n",
       "       ...,\n",
       "       [ 1.08852874,  1.34865164,  0.        , ...,  0.25798649,\n",
       "        -0.72000743, -0.57749915],\n",
       "       [ 0.19763619, -0.45616158,  0.        , ...,  0.49640054,\n",
       "        -0.24258268, -0.1010904 ],\n",
       "       [ 0.64308246, -0.45616158,  0.        , ...,  0.92414338,\n",
       "         2.26976718,  1.84991688]])"
      ]
     },
     "execution_count": 52,
     "metadata": {},
     "output_type": "execute_result"
    }
   ],
   "source": [
    "X_train_scaled"
   ]
  },
  {
   "cell_type": "code",
   "execution_count": 53,
   "id": "7510933b",
   "metadata": {},
   "outputs": [
    {
     "data": {
      "text/plain": [
       "array([[ 3.08997758e-01,  1.34865164e+00,  0.00000000e+00,\n",
       "        -8.63371954e-01, -2.72921871e-01, -5.40249712e-01,\n",
       "        -3.63882055e-01,  7.69875468e-01, -2.11276144e-01,\n",
       "         6.24865799e-01],\n",
       "       [ 1.42261344e+00, -1.35856820e+00,  0.00000000e+00,\n",
       "         1.28179795e+00, -1.64362804e+00, -8.88921512e-01,\n",
       "        -9.04070350e-02,  5.52497959e-01,  2.11362151e-01,\n",
       "        -5.57181353e-02],\n",
       "       [-9.15979493e-01, -4.56161584e-01,  0.00000000e+00,\n",
       "         2.09212999e-01,  4.45067072e-01,  1.20310929e+00,\n",
       "        -3.63882055e-01,  5.10424892e-01, -2.11276144e-01,\n",
       "         2.16515438e-01],\n",
       "       [-1.36448515e-01,  4.46245028e-01,  0.00000000e+00,\n",
       "         1.01365171e+00, -4.03465315e-01, -8.88921512e-01,\n",
       "        -2.27144545e-01,  2.86035205e-01,  3.13495439e-02,\n",
       "        -3.05265578e-01],\n",
       "       [ 1.97636190e-01,  1.34865164e+00,  0.00000000e+00,\n",
       "        -5.89332392e-02, -7.95095648e-01, -1.58626511e+00,\n",
       "        -3.63882055e-01,  7.76887646e-01, -4.22595292e-01,\n",
       "         3.98004488e-01],\n",
       "       [-5.81894788e-01,  4.46245028e-01,  0.00000000e+00,\n",
       "         7.45505476e-01,  1.18708462e-01, -8.88921512e-01,\n",
       "        -3.63882055e-01,  7.41826757e-01,  5.08774285e-01,\n",
       "         4.66062881e-01],\n",
       "       [-1.69551047e+00, -1.35856820e+00,  0.00000000e+00,\n",
       "        -5.89332392e-02,  6.40882239e-01, -1.23759331e+00,\n",
       "        -4.48278650e-02, -1.48804576e+00, -9.93939655e-01,\n",
       "        -1.00853564e+00],\n",
       "       [-3.59171651e-01,  4.46245028e-01,  0.00000000e+00,\n",
       "         7.45505476e-01,  1.18708462e-01, -1.91577912e-01,\n",
       "        -3.63882055e-01,  6.08595381e-01,  2.97455137e-01,\n",
       "         1.93829307e-01],\n",
       "       [-1.47278733e+00, -4.56161584e-01,  0.00000000e+00,\n",
       "         4.77359237e-01, -3.38193593e-01,  5.05765688e-01,\n",
       "        -3.18302885e-01,  4.47315293e-01, -4.30421927e-01,\n",
       "        -7.84042664e-02],\n",
       "       [ 6.43082463e-01,  1.34865164e+00,  0.00000000e+00,\n",
       "         2.09212999e-01,  1.83980184e-01, -8.88921512e-01,\n",
       "        -3.63882055e-01,  7.41826757e-01,  8.53146230e-01,\n",
       "         4.66062881e-01],\n",
       "       [-5.81894788e-01,  1.34865164e+00,  0.00000000e+00,\n",
       "        -5.95225716e-01,  7.71425683e-01, -5.40249712e-01,\n",
       "        -3.63882055e-01,  6.16455184e-02, -6.80874250e-01,\n",
       "        -6.68243676e-01],\n",
       "       [ 1.53397501e+00, -4.56161584e-01,  0.00000000e+00,\n",
       "         1.01365171e+00, -3.38193593e-01,  1.57093888e-01,\n",
       "        -3.63882055e-01,  7.41826757e-01,  6.73133622e-01,\n",
       "         7.15610324e-01],\n",
       "       [-1.13870263e+00, -4.56161584e-01,  0.00000000e+00,\n",
       "         7.45505476e-01, -1.25199770e+00, -1.91577912e-01,\n",
       "        -2.27144545e-01,  4.47315293e-01,  2.35229088e-02,\n",
       "        -1.69148791e-01],\n",
       "       [-1.25006420e+00, -4.56161584e-01,  0.00000000e+00,\n",
       "         4.77359237e-01, -1.05618254e+00,  8.54437488e-01,\n",
       "        -3.63882055e-01,  8.54021601e-01,  2.73975232e-01,\n",
       "         1.41888039e+00],\n",
       "       [-1.02734106e+00,  4.46245028e-01,  0.00000000e+00,\n",
       "         4.77359237e-01,  1.18708462e-01, -8.88921512e-01,\n",
       "         9.57913875e-01, -6.04511365e-01, -6.26087805e-01,\n",
       "        -8.72418856e-01],\n",
       "       [-2.47810083e-01, -1.35856820e+00,  0.00000000e+00,\n",
       "        -1.39966443e+00,  1.16305602e+00,  1.57093888e-01,\n",
       "        -4.48278650e-02, -1.74749633e+00, -6.88700886e-01,\n",
       "        -1.03122177e+00],\n",
       "       [-1.13870263e+00,  4.46245028e-01,  0.00000000e+00,\n",
       "        -5.95225716e-01, -4.68737038e-01, -5.40249712e-01,\n",
       "         1.04907221e+00, -5.48413943e-01, -3.28675671e-01,\n",
       "        -8.49732725e-01],\n",
       "       [-8.04617924e-01, -1.35856820e+00,  0.00000000e+00,\n",
       "        -1.39966443e+00, -1.42378427e-01,  8.54437488e-01,\n",
       "        -3.18302885e-01, -1.54884365e-02, -5.24341548e-01,\n",
       "        -6.00185283e-01],\n",
       "       [-4.70533220e-01,  1.34865164e+00,  0.00000000e+00,\n",
       "        -3.27079478e-01,  7.06153961e-01, -5.40249712e-01,\n",
       "        -3.63882055e-01,  4.12254404e-01, -5.39994819e-01,\n",
       "        -2.82579447e-01],\n",
       "       [-8.04617924e-01, -1.35856820e+00,  0.00000000e+00,\n",
       "        -1.93595691e+00,  1.75050151e+00, -8.88921512e-01,\n",
       "        -2.72723715e-01, -1.78255722e+00, -5.71301359e-01,\n",
       "        -1.05390791e+00],\n",
       "       [ 3.08997758e-01,  4.46245028e-01,  0.00000000e+00,\n",
       "         7.45505476e-01,  3.14523628e-01, -1.91577912e-01,\n",
       "        -3.18302885e-01,  3.07071739e-01,  1.36970415e+00,\n",
       "        -3.96010102e-01],\n",
       "       [ 8.65805599e-01, -1.35856820e+00,  0.00000000e+00,\n",
       "         7.45505476e-01,  4.45067072e-01,  1.57093888e-01,\n",
       "        -3.63882055e-01,  4.89388359e-01, -4.06942022e-01,\n",
       "        -3.30320041e-02],\n",
       "       [ 1.53397501e+00,  4.46245028e-01,  0.00000000e+00,\n",
       "         7.45505476e-01,  5.75610517e-01,  5.05765688e-01,\n",
       "         7.51305000e-04, -3.94146033e-01,  7.82706514e-01,\n",
       "        -7.58988201e-01],\n",
       "       [-1.58414890e+00, -1.35856820e+00,  0.00000000e+00,\n",
       "        -5.95225716e-01,  7.71425683e-01, -8.88921512e-01,\n",
       "         1.45928474e+00, -1.58621625e+00, -9.78286384e-01,\n",
       "        -1.00853564e+00],\n",
       "       [-1.13870263e+00, -1.35856820e+00,  0.00000000e+00,\n",
       "        -3.27079478e-01,  3.79795350e-01, -5.40249712e-01,\n",
       "        -3.63882055e-01,  3.00059561e-01, -7.35660696e-01,\n",
       "        -4.41382365e-01],\n",
       "       [ 7.54444031e-01, -1.35856820e+00,  0.00000000e+00,\n",
       "        -5.89332392e-02,  5.34367395e-02,  8.54437488e-01,\n",
       "        -3.18302885e-01,  2.15913428e-01, -5.47821454e-01,\n",
       "        -3.96010102e-01],\n",
       "       [ 1.97636190e-01, -4.56161584e-01,  0.00000000e+00,\n",
       "         2.09212999e-01,  4.45067072e-01, -1.91577912e-01,\n",
       "        -3.63882055e-01,  5.45485781e-01,  6.80960257e-01,\n",
       "         3.50263893e-02],\n",
       "       [-6.93256356e-01,  1.34865164e+00,  0.00000000e+00,\n",
       "        -8.63371954e-01,  8.36697405e-01, -1.91577912e-01,\n",
       "         1.37488815e-01, -1.31975349e+00, -8.21753682e-01,\n",
       "        -9.63163381e-01],\n",
       "       [-3.59171651e-01, -1.35856820e+00,  0.00000000e+00,\n",
       "        -1.39966443e+00,  1.48941463e+00,  1.90045289e+00,\n",
       "         1.83067985e-01, -1.98591038e+00, -6.65220980e-01,\n",
       "        -1.03122177e+00],\n",
       "       [ 8.65805599e-01,  1.34865164e+00,  0.00000000e+00,\n",
       "        -1.66781067e+00, -7.95095648e-01, -3.32962411e+00,\n",
       "         5.47701345e-01, -1.19353429e+00, -2.58235955e-01,\n",
       "        -1.00853564e+00],\n",
       "       [ 1.08852874e+00, -4.56161584e-01,  0.00000000e+00,\n",
       "         1.01365171e+00, -5.34008760e-01,  1.20310929e+00,\n",
       "        -3.63882055e-01,  7.62863290e-01,  1.48749070e-01,\n",
       "         1.12396068e+00],\n",
       "       [-1.36448515e-01, -4.56161584e-01,  0.00000000e+00,\n",
       "        -5.95225716e-01,  1.22832774e+00,  1.20310929e+00,\n",
       "        -1.81565375e-01, -1.23560736e+00, -7.82620507e-01,\n",
       "        -8.95104988e-01],\n",
       "       [-6.93256356e-01,  1.34865164e+00,  0.00000000e+00,\n",
       "         2.09212999e-01,  7.71425683e-01, -1.23759331e+00,\n",
       "         4.56543005e-01, -1.29170478e+00, -1.01741956e+00,\n",
       "        -9.85849512e-01],\n",
       "       [ 7.54444031e-01,  4.46245028e-01,  0.00000000e+00,\n",
       "         1.01365171e+00, -5.34008760e-01,  1.57093888e-01,\n",
       "        -3.63882055e-01,  7.83899823e-01,  1.75320927e+00,\n",
       "         1.21470521e+00],\n",
       "       [ 1.19989030e+00,  1.34865164e+00,  0.00000000e+00,\n",
       "        -3.27079478e-01,  3.14523628e-01, -1.58626511e+00,\n",
       "        -3.63882055e-01,  5.17437070e-01, -5.39994819e-01,\n",
       "        -2.37207184e-01],\n",
       "       [-1.47278733e+00,  4.46245028e-01,  0.00000000e+00,\n",
       "         7.45505476e-01,  1.18708462e-01, -5.40249712e-01,\n",
       "        -2.27144545e-01, -1.20671102e-01, -7.43487331e-01,\n",
       "        -7.58988201e-01],\n",
       "       [-5.81894788e-01, -4.56161584e-01,  0.00000000e+00,\n",
       "         4.77359237e-01, -3.38193593e-01, -1.91577912e-01,\n",
       "         9.57913875e-01, -2.46890301e-01, -6.33914440e-01,\n",
       "        -7.81674332e-01],\n",
       "       [ 7.54444031e-01, -4.56161584e-01,  0.00000000e+00,\n",
       "        -3.27079478e-01,  6.40882239e-01,  5.05765688e-01,\n",
       "        -3.63882055e-01,  6.29631914e-01,  2.45760643e+00,\n",
       "         4.20690619e-01],\n",
       "       [ 8.65805599e-01,  4.46245028e-01,  0.00000000e+00,\n",
       "         7.45505476e-01, -1.51308459e+00, -1.91577912e-01,\n",
       "        -3.63882055e-01,  9.66216444e-01,  2.82545828e+00,\n",
       "         1.62305557e+00],\n",
       "       [-3.59171651e-01, -1.35856820e+00,  0.00000000e+00,\n",
       "        -5.95225716e-01, -5.99280482e-01, -1.91577912e-01,\n",
       "         5.47701345e-01, -4.22194744e-01, -2.97369130e-01,\n",
       "        -8.27046594e-01],\n",
       "       [ 9.77167168e-01, -1.35856820e+00,  0.00000000e+00,\n",
       "         4.77359237e-01,  5.75610517e-01,  1.57093888e-01,\n",
       "        -3.63882055e-01,  5.38473603e-01, -1.87796239e-01,\n",
       "         8.03986516e-02],\n",
       "       [-2.50869467e-02, -4.56161584e-01,  0.00000000e+00,\n",
       "        -1.13151819e+00,  9.67240849e-01,  1.90045289e+00,\n",
       "        -3.63882055e-01, -4.01158211e-01, -6.41741075e-01,\n",
       "        -9.85849512e-01],\n",
       "       [-1.36448515e-01,  1.34865164e+00,  0.00000000e+00,\n",
       "        -2.20410315e+00,  1.35887118e+00, -1.91577912e-01,\n",
       "        -1.81565375e-01, -2.34353144e+00, -1.11916582e+00,\n",
       "        -1.09928017e+00],\n",
       "       [ 3.08997758e-01, -1.35856820e+00,  0.00000000e+00,\n",
       "        -3.27079478e-01, -4.03465315e-01,  1.57093888e-01,\n",
       "        -3.18302885e-01,  1.10730762e-01, -8.37406952e-01,\n",
       "        -5.77499152e-01],\n",
       "       [-2.50869467e-02,  1.34865164e+00,  0.00000000e+00,\n",
       "        -5.95225716e-01,  2.49251906e-01, -5.40249712e-01,\n",
       "        -3.63882055e-01, -1.54884365e-02, -9.39153209e-01,\n",
       "        -7.13615938e-01],\n",
       "       [-2.50869467e-02, -1.35856820e+00,  0.00000000e+00,\n",
       "        -8.63371954e-01,  1.81577324e+00, -8.88921512e-01,\n",
       "        -4.48278650e-02, -2.96060308e+00, -1.05655274e+00,\n",
       "        -1.14465243e+00],\n",
       "       [-2.50869467e-02,  4.46245028e-01,  0.00000000e+00,\n",
       "         1.01365171e+00, -1.18349826e-02,  8.54437488e-01,\n",
       "        -2.27144545e-01,  1.31767296e-01, -2.73889225e-01,\n",
       "        -5.09440758e-01],\n",
       "       [-9.15979493e-01, -1.35856820e+00,  0.00000000e+00,\n",
       "        -5.95225716e-01,  7.71425683e-01, -1.91577912e-01,\n",
       "        -3.63882055e-01,  5.80546670e-01, -2.42582685e-01,\n",
       "         1.25770914e-01],\n",
       "       [-1.69551047e+00,  1.34865164e+00,  0.00000000e+00,\n",
       "        -8.63371954e-01,  1.61995807e+00,  1.57093888e-01,\n",
       "        -3.63882055e-01, -2.83438388e+00, -1.11916582e+00,\n",
       "        -1.12196630e+00],\n",
       "       [ 1.31125187e+00,  4.46245028e-01,  0.00000000e+00,\n",
       "         7.45505476e-01, -3.38193593e-01, -5.40249712e-01,\n",
       "        -1.81565375e-01,  6.16455184e-02,  1.70624946e+00,\n",
       "        -6.68243676e-01],\n",
       "       [-1.36142577e+00,  4.46245028e-01,  0.00000000e+00,\n",
       "         4.77359237e-01,  5.10338794e-01, -8.88921512e-01,\n",
       "        -3.63882055e-01,  4.68351826e-01, -5.47821454e-01,\n",
       "        -2.37207184e-01],\n",
       "       [-1.36142577e+00, -4.56161584e-01,  0.00000000e+00,\n",
       "         4.77359237e-01, -2.07650149e-01,  8.54437488e-01,\n",
       "        -3.63882055e-01,  6.78717158e-01, -1.25183158e-01,\n",
       "         6.70238061e-01],\n",
       "       [-3.59171651e-01,  1.34865164e+00,  0.00000000e+00,\n",
       "        -1.93595691e+00,  1.61995807e+00,  1.90045289e+00,\n",
       "         1.73275976e+00, -2.62401855e+00, -1.08785928e+00,\n",
       "        -1.12196630e+00],\n",
       "       [-1.25006420e+00,  1.34865164e+00,  0.00000000e+00,\n",
       "        -8.63371954e-01,  9.01969127e-01,  1.57093888e-01,\n",
       "        -3.63882055e-01,  1.73840362e-01, -9.23499939e-01,\n",
       "        -5.09440758e-01],\n",
       "       [ 4.20359326e-01,  1.34865164e+00,  0.00000000e+00,\n",
       "        -1.13151819e+00,  1.48941463e+00,  8.54437488e-01,\n",
       "        -3.63882055e-01,  3.84205693e-01, -1.33009793e-01,\n",
       "        -1.23776529e-01],\n",
       "       [-1.36142577e+00, -4.56161584e-01,  0.00000000e+00,\n",
       "         2.09212999e-01,  1.09778429e+00,  5.05765688e-01,\n",
       "        -3.63882055e-01,  1.24755118e-01, -8.29580317e-01,\n",
       "        -5.32126889e-01],\n",
       "       [ 1.42261344e+00, -4.56161584e-01,  0.00000000e+00,\n",
       "         4.77359237e-01, -1.42378427e-01,  1.57093888e-01,\n",
       "        -3.63882055e-01,  6.85729335e-01,  3.36588313e-01,\n",
       "         5.34121274e-01],\n",
       "       [-8.04617924e-01, -4.56161584e-01,  0.00000000e+00,\n",
       "         1.01365171e+00, -1.18672598e+00, -1.91577912e-01,\n",
       "         5.02122175e-01,  2.79023028e-01, -4.53901832e-01,\n",
       "        -4.18696234e-01],\n",
       "       [-9.15979493e-01, -4.56161584e-01,  0.00000000e+00,\n",
       "         7.45505476e-01, -9.25639092e-01,  8.54437488e-01,\n",
       "         2.37086814e+00,  1.73840362e-01, -4.22595292e-01,\n",
       "        -4.41382365e-01],\n",
       "       [ 4.20359326e-01, -4.56161584e-01,  0.00000000e+00,\n",
       "         1.01365171e+00, -7.29823926e-01,  1.57093888e-01,\n",
       "        -3.63882055e-01,  8.11948534e-01,  1.36970415e+00,\n",
       "         1.01053003e+00],\n",
       "       [-8.04617924e-01,  1.34865164e+00,  0.00000000e+00,\n",
       "        -5.95225716e-01,  1.22832774e+00, -1.91577912e-01,\n",
       "        -3.63882055e-01,  3.35120449e-01, -5.71301359e-01,\n",
       "        -3.50637840e-01]])"
      ]
     },
     "execution_count": 53,
     "metadata": {},
     "output_type": "execute_result"
    }
   ],
   "source": [
    "X_test_scaled"
   ]
  },
  {
   "cell_type": "code",
   "execution_count": 54,
   "id": "9f6d55c2",
   "metadata": {},
   "outputs": [
    {
     "data": {
      "text/plain": [
       "Text(0.5, 1.0, 'X_train After Scaling')"
      ]
     },
     "execution_count": 54,
     "metadata": {},
     "output_type": "execute_result"
    },
    {
     "data": {
      "image/png": "[encoded data removed]",
      "text/plain": [
       "<Figure size 1080x360 with 2 Axes>"
      ]
     },
     "metadata": {
      "needs_background": "light"
     },
     "output_type": "display_data"
    }
   ],
   "source": [
    "plt.subplots(figsize=(15, 5))\n",
    "plt.subplot(1, 2, 1)\n",
    "sns.boxplot(data=X_train)\n",
    "plt.title('X_train Before Scaling')\n",
    "plt.subplot(1, 2, 2)\n",
    "sns.boxplot(data=X_train_scaled)\n",
    "plt.title('X_train After Scaling')"
   ]
  },
  {
   "cell_type": "markdown",
   "id": "e6c97998",
   "metadata": {},
   "source": [
    "### Model Building"
   ]
  },
  {
   "cell_type": "code",
   "execution_count": 55,
   "id": "c45e3127",
   "metadata": {},
   "outputs": [],
   "source": [
    "from sklearn.linear_model import LinearRegression"
   ]
  },
  {
   "cell_type": "code",
   "execution_count": 56,
   "id": "b82c91aa",
   "metadata": {},
   "outputs": [],
   "source": [
    "LinearRegression=LinearRegression()"
   ]
  },
  {
   "cell_type": "code",
   "execution_count": 57,
   "id": "beed4e7d",
   "metadata": {},
   "outputs": [
    {
     "data": {
      "text/plain": [
       "LinearRegression()"
      ]
     },
     "execution_count": 57,
     "metadata": {},
     "output_type": "execute_result"
    }
   ],
   "source": [
    "LinearRegression.fit(X_train_scaled, y_train)"
   ]
  },
  {
   "cell_type": "code",
   "execution_count": 58,
   "id": "954d953c",
   "metadata": {},
   "outputs": [
    {
     "name": "stdout",
     "output_type": "stream",
     "text": [
      "Intercept is : 7.5587912087912095\n",
      "Coefficient is : [ 1.75074454e-01  5.29922980e-02 -1.11022302e-16  4.35338229e-03\n",
      "  5.62621826e-02  8.72693549e-02 -2.09386360e-02 -5.62147874e-01\n",
      "  3.71843811e+00  5.05637791e+00]\n"
     ]
    }
   ],
   "source": [
    "print('Intercept is :',LinearRegression.intercept_)\n",
    "print('Coefficient is :',LinearRegression.coef_)"
   ]
  },
  {
   "cell_type": "code",
   "execution_count": 59,
   "id": "82a36217",
   "metadata": {},
   "outputs": [
    {
     "name": "stdout",
     "output_type": "stream",
     "text": [
      "Training Score: 0.9699180414962887\n",
      "Test Score: 0.9658793055975398\n"
     ]
    }
   ],
   "source": [
    "print(\"Training Score:\",LinearRegression.score(X_train_scaled, y_train))\n",
    "print(\"Test Score:\",LinearRegression.score(X_test_scaled,y_test))"
   ]
  },
  {
   "cell_type": "code",
   "execution_count": 60,
   "id": "0f9ac559",
   "metadata": {},
   "outputs": [],
   "source": [
    "LinearRegression_predict = LinearRegression.predict(X_test_scaled)"
   ]
  },
  {
   "cell_type": "code",
   "execution_count": 61,
   "id": "1bef5831",
   "metadata": {},
   "outputs": [
    {
     "data": {
      "text/plain": [
       "array([ 9.56687165,  7.76690386,  7.53505089,  5.87968271,  7.49339781,\n",
       "       11.25195111, -0.84024615,  9.26440371,  5.06222777, 12.79609734,\n",
       "        1.58433202, 13.51427759,  6.23683391, 15.05367321,  0.91417808,\n",
       "        0.72461599,  2.07456403,  2.43726835,  3.8781451 ,  0.9128788 ,\n",
       "       10.56558722,  5.73267295,  7.2250342 , -0.70341327,  2.13187333,\n",
       "        3.5420702 ,  9.98864231,  0.34874438,  1.09218358,  2.0389741 ,\n",
       "       13.61961602,  0.94452201, -0.60627286, 19.93076074,  4.22756561,\n",
       "        0.75761665,  1.208194  , 18.66477451, 25.81295308,  2.30914775,\n",
       "        7.11918196,  0.60759779, -0.74220225,  1.4409988 ,  0.50598328,\n",
       "       -0.54805521,  3.9926781 ,  6.7657076 , -0.7991603 , 10.68391446,\n",
       "        3.80519005,  9.91079966, -0.46347488,  1.37209554,  6.52848072,\n",
       "        1.56519031, 11.36589825,  3.34241804,  3.44942954, 17.33923901,\n",
       "        3.46111536])"
      ]
     },
     "execution_count": 61,
     "metadata": {},
     "output_type": "execute_result"
    }
   ],
   "source": [
    "LinearRegression_predict "
   ]
  },
  {
   "cell_type": "code",
   "execution_count": 78,
   "id": "489059ae",
   "metadata": {},
   "outputs": [
    {
     "data": {
      "text/plain": [
       "Text(0, 0.5, 'Test Predicted Data')"
      ]
     },
     "execution_count": 78,
     "metadata": {},
     "output_type": "execute_result"
    },
    {
     "data": {
      "image/png": "[encoded data removed]",
      "text/plain": [
       "<Figure size 432x288 with 1 Axes>"
      ]
     },
     "metadata": {
      "needs_background": "light"
     },
     "output_type": "display_data"
    }
   ],
   "source": [
    "plt.scatter(y_test,LinearRegression_predict)\n",
    "plt.xlabel(\"Test Truth Data\")\n",
    "plt.ylabel(\"Test Predicted Data\")"
   ]
  },
  {
   "cell_type": "code",
   "execution_count": 80,
   "id": "15651907",
   "metadata": {},
   "outputs": [],
   "source": [
    "## residuals\n",
    "residuals=y_test-LinearRegression_predict"
   ]
  },
  {
   "cell_type": "code",
   "execution_count": 81,
   "id": "6766f0f9",
   "metadata": {},
   "outputs": [
    {
     "data": {
      "text/plain": [
       "110    0.133128\n",
       "150   -0.566904\n",
       "37     0.464949\n",
       "75     0.420317\n",
       "109    0.206602\n",
       "         ...   \n",
       "179   -0.465898\n",
       "160   -0.242418\n",
       "159   -0.449430\n",
       "170   -0.039239\n",
       "221    0.238885\n",
       "Name: FWI, Length: 61, dtype: float64"
      ]
     },
     "execution_count": 81,
     "metadata": {},
     "output_type": "execute_result"
    }
   ],
   "source": [
    "residuals"
   ]
  },
  {
   "cell_type": "code",
   "execution_count": 82,
   "id": "e9f5eb3a",
   "metadata": {},
   "outputs": [
    {
     "data": {
      "text/plain": [
       "<seaborn.axisgrid.FacetGrid at 0x2539d6e18e0>"
      ]
     },
     "execution_count": 82,
     "metadata": {},
     "output_type": "execute_result"
    },
    {
     "data": {
      "image/png": "[encoded data removed]",
      "text/plain": [
       "<Figure size 360x360 with 1 Axes>"
      ]
     },
     "metadata": {
      "needs_background": "light"
     },
     "output_type": "display_data"
    }
   ],
   "source": [
    "sns.displot(residuals,kind=\"kde\")"
   ]
  },
  {
   "cell_type": "code",
   "execution_count": 83,
   "id": "ee6878d7",
   "metadata": {},
   "outputs": [
    {
     "data": {
      "text/plain": [
       "<matplotlib.collections.PathCollection at 0x2539d0df850>"
      ]
     },
     "execution_count": 83,
     "metadata": {},
     "output_type": "execute_result"
    },
    {
     "data": {
      "image/png": "[encoded data removed]",
      "text/plain": [
       "<Figure size 432x288 with 1 Axes>"
      ]
     },
     "metadata": {
      "needs_background": "light"
     },
     "output_type": "display_data"
    }
   ],
   "source": [
    "## SCatter plot with predictions and residual\n",
    "##uniform distribution\n",
    "plt.scatter(LinearRegression_predict,residuals)"
   ]
  },
  {
   "cell_type": "code",
   "execution_count": 63,
   "id": "b5a85004",
   "metadata": {},
   "outputs": [],
   "source": [
    "from sklearn import metrics"
   ]
  },
  {
   "cell_type": "code",
   "execution_count": 64,
   "id": "0d0b6417",
   "metadata": {},
   "outputs": [
    {
     "name": "stdout",
     "output_type": "stream",
     "text": [
      "Mean Absolute Error: 0.6998689414155342\n",
      "Mean Square Error: 1.1844792283620365\n",
      "Root Mean Square Error: 1.0883378282325926\n"
     ]
    }
   ],
   "source": [
    "meanAbErr = metrics.mean_absolute_error(y_test, LinearRegression_predict)\n",
    "meanSqErr = metrics.mean_squared_error(y_test, LinearRegression_predict)\n",
    "rootMeanSqErr = np.sqrt(metrics.mean_squared_error(y_test, LinearRegression_predict))\n",
    "\n",
    "print('Mean Absolute Error:', meanAbErr)\n",
    "print('Mean Square Error:', meanSqErr)\n",
    "print('Root Mean Square Error:', rootMeanSqErr)"
   ]
  },
  {
   "cell_type": "code",
   "execution_count": 65,
   "id": "8a3fd4f8",
   "metadata": {},
   "outputs": [
    {
     "name": "stdout",
     "output_type": "stream",
     "text": [
      "0.9658793055975398\n"
     ]
    }
   ],
   "source": [
    "from sklearn.metrics import r2_score\n",
    "score=r2_score(y_test, LinearRegression_predict)\n",
    "print(score)"
   ]
  },
  {
   "cell_type": "code",
   "execution_count": 66,
   "id": "b02a0974",
   "metadata": {},
   "outputs": [
    {
     "data": {
      "text/plain": [
       "0.9590551667170477"
      ]
     },
     "execution_count": 66,
     "metadata": {},
     "output_type": "execute_result"
    }
   ],
   "source": [
    "## Adjusted R square\n",
    "#display adjusted R-squared\n",
    "1 - (1-score)*(len(y_test)-1)/(len(y_test)-X_test.shape[1]-1)"
   ]
  },
  {
   "cell_type": "code",
   "execution_count": 67,
   "id": "2d43cdf2",
   "metadata": {},
   "outputs": [],
   "source": [
    "## Ridge\n",
    "from sklearn.linear_model import Ridge"
   ]
  },
  {
   "cell_type": "code",
   "execution_count": 68,
   "id": "c65fd5fb",
   "metadata": {},
   "outputs": [
    {
     "data": {
      "text/plain": [
       "Ridge()"
      ]
     },
     "execution_count": 68,
     "metadata": {},
     "output_type": "execute_result"
    }
   ],
   "source": [
    "Ridge_Regression = Ridge()\n",
    "Ridge_Regression.fit(X_train_scaled, y_train)"
   ]
  },
  {
   "cell_type": "code",
   "execution_count": 69,
   "id": "74106ea6",
   "metadata": {},
   "outputs": [
    {
     "name": "stdout",
     "output_type": "stream",
     "text": [
      "Intercept is : 7.558791208791209\n",
      "Coefficient is : [ 0.17917141  0.05707422  0.          0.0163783   0.02739139  0.10742369\n",
      " -0.01344387 -0.50671199  3.70429368  4.97164701]\n"
     ]
    }
   ],
   "source": [
    "print('Intercept is :',Ridge_Regression.intercept_)\n",
    "print('Coefficient is :',Ridge_Regression.coef_)"
   ]
  },
  {
   "cell_type": "code",
   "execution_count": 70,
   "id": "685010b1",
   "metadata": {},
   "outputs": [
    {
     "name": "stdout",
     "output_type": "stream",
     "text": [
      "Training Score: 0.9698729841162209\n",
      "Test Score: 0.9648795296211802\n"
     ]
    }
   ],
   "source": [
    "print(\"Training Score:\",Ridge_Regression.score(X_train_scaled, y_train))\n",
    "print(\"Test Score:\",Ridge_Regression.score(X_test_scaled,y_test))"
   ]
  },
  {
   "cell_type": "code",
   "execution_count": 71,
   "id": "95e6a1c1",
   "metadata": {},
   "outputs": [
    {
     "data": {
      "text/plain": [
       "array([ 9.55024628,  7.84381947,  7.55356182,  5.92644326,  7.5025832 ,\n",
       "       11.23072082, -0.88020674,  9.27681019,  5.11517235, 12.77036502,\n",
       "        1.61407717, 13.51206052,  6.30865069, 15.0206614 ,  0.95263223,\n",
       "        0.67071972,  2.12131554,  2.48795317,  3.89822135,  0.80882069,\n",
       "       10.59351546,  5.76291312,  7.26707465, -0.74049873,  2.15758715,\n",
       "        3.6054714 ,  9.98830786,  0.33411169,  1.05170431,  2.01086675,\n",
       "       13.61629248,  0.9407835 , -0.61856916, 19.87945341,  4.2466969 ,\n",
       "        0.81448735,  1.28428206, 18.61553095, 25.74045764,  2.36339637,\n",
       "        7.13289536,  0.67004715, -0.82915671,  1.51213008,  0.55630686,\n",
       "       -0.68695184,  4.07678986,  6.74534939, -0.90354558, 10.73349185,\n",
       "        3.82560827,  9.91219464, -0.51321391,  1.40236031,  6.52726227,\n",
       "        1.59977606, 11.36815089,  3.44097707,  3.56750619, 17.31281205,\n",
       "        3.47048359])"
      ]
     },
     "execution_count": 71,
     "metadata": {},
     "output_type": "execute_result"
    }
   ],
   "source": [
    "Ridge_Regression_Prediction = Ridge_Regression.predict(X_test_scaled)\n",
    "Ridge_Regression_Prediction"
   ]
  },
  {
   "cell_type": "code",
   "execution_count": 72,
   "id": "b4b45ddc",
   "metadata": {},
   "outputs": [
    {
     "name": "stdout",
     "output_type": "stream",
     "text": [
      "Mean Absolute Error: 0.7108841156407053\n",
      "Mean Square Error: 1.2191858454972366\n",
      "Root Mean Square Error: 1.1041674897846054\n"
     ]
    }
   ],
   "source": [
    "meanAbErr = metrics.mean_absolute_error(y_test, Ridge_Regression_Prediction)\n",
    "meanSqErr = metrics.mean_squared_error(y_test, Ridge_Regression_Prediction)\n",
    "rootMeanSqErr = np.sqrt(metrics.mean_squared_error(y_test, Ridge_Regression_Prediction))\n",
    "\n",
    "print('Mean Absolute Error:', meanAbErr)\n",
    "print('Mean Square Error:', meanSqErr)\n",
    "print('Root Mean Square Error:', rootMeanSqErr)"
   ]
  },
  {
   "cell_type": "code",
   "execution_count": 73,
   "id": "cd5bf6ef",
   "metadata": {},
   "outputs": [
    {
     "name": "stdout",
     "output_type": "stream",
     "text": [
      "R-Square: 0.9648795296211802\n"
     ]
    }
   ],
   "source": [
    "# To find coefficient of determination\n",
    "r2 =  r2_score(y_test, Ridge_Regression_Prediction)\n",
    "print(\"R-Square:\",r2)"
   ]
  },
  {
   "cell_type": "code",
   "execution_count": 74,
   "id": "01bb40f3",
   "metadata": {},
   "outputs": [
    {
     "data": {
      "text/plain": [
       "Lasso()"
      ]
     },
     "execution_count": 74,
     "metadata": {},
     "output_type": "execute_result"
    }
   ],
   "source": [
    "##Lasso Regression\n",
    "from sklearn.linear_model import Lasso\n",
    "\n",
    "Lasso_Regression = Lasso()\n",
    "Lasso_Regression.fit(X_train_scaled, y_train)"
   ]
  },
  {
   "cell_type": "code",
   "execution_count": 75,
   "id": "cb641e97",
   "metadata": {},
   "outputs": [
    {
     "name": "stdout",
     "output_type": "stream",
     "text": [
      "Intercept is : 7.558791208791209\n",
      "Coefficient is : [ 0.          0.          0.          0.         -0.          0.\n",
      " -0.          0.          3.14197706  4.02820639]\n"
     ]
    }
   ],
   "source": [
    "print('Intercept is :',Lasso_Regression.intercept_)\n",
    "print('Coefficient is :',Lasso_Regression.coef_)"
   ]
  },
  {
   "cell_type": "code",
   "execution_count": 76,
   "id": "94c72c18",
   "metadata": {},
   "outputs": [
    {
     "name": "stdout",
     "output_type": "stream",
     "text": [
      "Training Score: 0.9472315394105817\n",
      "Test Score: 0.9376608832413118\n"
     ]
    }
   ],
   "source": [
    "print(\"Training Score:\",Lasso_Regression.score(X_train_scaled, y_train))\n",
    "print(\"Test Score:\",Lasso_Regression.score(X_test_scaled,y_test))"
   ]
  },
  {
   "cell_type": "code",
   "execution_count": 77,
   "id": "e8b97b75",
   "metadata": {},
   "outputs": [
    {
     "data": {
      "text/plain": [
       "array([ 9.41205482,  7.99844209,  7.76713528,  6.42761801,  7.83425072,\n",
       "       11.03474581,  0.3732659 ,  9.27417288,  5.89058682, 12.11675456,\n",
       "        2.72767649, 12.55638768,  6.95133341, 14.13515815,  2.07735448,\n",
       "        1.24093469,  3.103201  ,  3.4936519 ,  4.72385155,  1.51841689,\n",
       "       10.26715978,  6.14712898,  6.960676  ,  0.42244811,  3.46938292,\n",
       "        4.24233835,  9.83944624,  1.09703911,  1.31470801,  2.68483004,\n",
       "       12.55370298,  1.4941479 ,  0.39087699, 17.96041778,  4.90662038,\n",
       "        2.16540995,  2.41830105, 16.97516285, 22.9743191 ,  3.29294985,\n",
       "        7.2926021 ,  1.57125017, -0.3857295 ,  2.60139201,  1.73340109,\n",
       "       -0.37176948,  4.64610503,  7.30323318, -0.47711392, 10.2279644 ,\n",
       "        4.88202928,  9.86532584, -0.37874949,  2.60504307,  6.64228009,\n",
       "        2.80875195, 10.7678947 ,  4.44604722,  4.45302724, 15.93299373,\n",
       "        4.35133386])"
      ]
     },
     "execution_count": 77,
     "metadata": {},
     "output_type": "execute_result"
    }
   ],
   "source": [
    "Lasso_Regression_prediction = Lasso_Regression.predict(X_test_scaled)\n",
    "Lasso_Regression_prediction"
   ]
  },
  {
   "cell_type": "code",
   "execution_count": null,
   "id": "6bd03899",
   "metadata": {},
   "outputs": [],
   "source": []
  }
 ],
 "metadata": {
  "kernelspec": {
   "display_name": "Python 3 (ipykernel)",
   "language": "python",
   "name": "python3"
  },
  "language_info": {
   "codemirror_mode": {
    "name": "ipython",
    "version": 3
   },
   "file_extension": ".py",
   "mimetype": "text/x-python",
   "name": "python",
   "nbconvert_exporter": "python",
   "pygments_lexer": "ipython3",
   "version": "3.9.12"
  }
 },
 "nbformat": 4,
 "nbformat_minor": 5
}
